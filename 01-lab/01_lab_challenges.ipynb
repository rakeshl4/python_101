{
 "cells": [
  {
   "cell_type": "markdown",
   "id": "add7f52e",
   "metadata": {},
   "source": [
    "## Challenges: Variables and Print Statements\n",
    "1. Create a variable to store your favorite food and print a message about it. 🍕\n",
    "   Hint: Use the `print()` function to display the message.\n",
    "2. Store your best friend's name in a variable and print a message introducing them. 👫\n",
    "3. Create two variables for your height and weight, and print a message showing both. 📏⚖️\n",
    "4. Store your favorite hobby in a variable and print a message about why you love it. 🎨\n",
    "5. Create a variable for your birth year and calculate your age using the current year. 🎂\n",
    "   Hint: Subtract your birth year from the current year."
   ]
  },
  {
   "cell_type": "code",
   "execution_count": null,
   "id": "d65e15da",
   "metadata": {},
   "outputs": [],
   "source": [
    "# Challenge 1: Variables and Print Statements\n",
    "# Create a variable to store your favorite food and print a message about it.\n",
    "# Hint: Use the print() function to display the message.\n",
    "\n",
    "# Your code here"
   ]
  },
  {
   "cell_type": "code",
   "execution_count": null,
   "id": "275845b2",
   "metadata": {},
   "outputs": [],
   "source": [
    "# Challenge 2: Variables and Print Statements\n",
    "# Store your best friend's name in a variable and print a message introducing them.\n",
    "\n",
    "# Your code here"
   ]
  },
  {
   "cell_type": "code",
   "execution_count": null,
   "id": "5c79c9d5",
   "metadata": {},
   "outputs": [],
   "source": [
    "# Challenge 3: Variables and Print Statements\n",
    "# Create two variables for your height and weight, and print a message showing both.\n",
    "\n",
    "# Your code here"
   ]
  },
  {
   "cell_type": "code",
   "execution_count": null,
   "id": "1ca5ffb0",
   "metadata": {},
   "outputs": [],
   "source": [
    "# Challenge 4: Variables and Print Statements\n",
    "# Store your favorite hobby in a variable and print a message about why you love it.\n",
    "\n",
    "# Your code here"
   ]
  },
  {
   "cell_type": "code",
   "execution_count": null,
   "id": "cf9752b2",
   "metadata": {},
   "outputs": [],
   "source": [
    "# Challenge 5: Variables and Print Statements\n",
    "# Create a variable for your birth year and calculate your age using the current year.\n",
    "# Hint: Subtract your birth year from the current year.\n",
    "\n",
    "# Your code here"
   ]
  },
  {
   "cell_type": "markdown",
   "id": "214984ae",
   "metadata": {},
   "source": [
    "## Challenges: Conditions (if-else)\n",
    "1. Write a program to check if a number is divisible by both 3 and 5. 🔢\n",
    "   Hint: Use the modulo operator `%` to check divisibility.\n",
    "2. Create a program to check if a given word starts with a vowel. 🅰️\n",
    "3. Write a program to determine if a person is eligible for a senior citizen discount (age >= 60). 👵\n",
    "4. Check if a number is a multiple of 7 or not. 🎲\n",
    "5. Write a program to decide if a temperature is 'hot', 'cold', or 'moderate' based on user input. 🌡️\n",
    "   Hint: Use if-elif-else conditions to categorize the temperature."
   ]
  },
  {
   "cell_type": "code",
   "execution_count": null,
   "id": "f276486a",
   "metadata": {},
   "outputs": [],
   "source": [
    "# Challenge 1: Conditions (if-else)\n",
    "# Write a program to check if a number is divisible by both 3 and 5.\n",
    "# Hint: Use the modulo operator % to check divisibility.\n",
    "\n",
    "# Your code here"
   ]
  },
  {
   "cell_type": "code",
   "execution_count": null,
   "id": "b3ef5df6",
   "metadata": {},
   "outputs": [],
   "source": [
    "# Challenge 2: Conditions (if-else)\n",
    "# Create a program to check if a given word starts with a vowel.\n",
    "\n",
    "# Your code here"
   ]
  },
  {
   "cell_type": "code",
   "execution_count": null,
   "id": "5347151f",
   "metadata": {},
   "outputs": [],
   "source": [
    "# Challenge 3: Conditions (if-else)\n",
    "# Write a program to determine if a person is eligible for a senior citizen discount (age >= 60).\n",
    "\n",
    "# Your code here"
   ]
  },
  {
   "cell_type": "code",
   "execution_count": null,
   "id": "d77950d3",
   "metadata": {},
   "outputs": [],
   "source": [
    "# Challenge 4: Conditions (if-else)\n",
    "# Check if a number is a multiple of 7 or not.\n",
    "\n",
    "# Your code here"
   ]
  },
  {
   "cell_type": "code",
   "execution_count": null,
   "id": "4b26a95c",
   "metadata": {},
   "outputs": [],
   "source": [
    "# Challenge 5: Conditions (if-else)\n",
    "# Write a program to decide if a temperature is 'hot', 'cold', or 'moderate' based on user input.\n",
    "# Hint: Use if-elif-else conditions to categorize the temperature.\n",
    "\n",
    "# Your code here"
   ]
  },
  {
   "cell_type": "markdown",
   "id": "8dfdb05f",
   "metadata": {},
   "source": [
    "## Challenges: Loops (for and while)\n",
    "1. Use a for loop to print the first 10 square numbers. 🔢\n",
    "   Hint: Use `i**2` to calculate the square of a number.\n",
    "2. Write a while loop to calculate the sum of all even numbers between 1 and 50. ➕\n",
    "3. Create a for loop to print all the characters in a string in reverse order. 🔄\n",
    "4. Use a while loop to find the factorial of a number provided by the user. ✖️\n",
    "   Hint: Multiply numbers in descending order until 1.\n",
    "5. Write a for loop to print all the prime numbers between 1 and 100. 🧮\n",
    "   Hint: Use nested loops to check if a number is divisible only by 1 and itself."
   ]
  },
  {
   "cell_type": "code",
   "execution_count": null,
   "id": "9aac1dd1",
   "metadata": {},
   "outputs": [],
   "source": [
    "# Challenge 1: Loops (for and while)\n",
    "# Use a for loop to print the first 10 square numbers.\n",
    "# Hint: Use i**2 to calculate the square of a number.\n",
    "\n",
    "# Your code here"
   ]
  },
  {
   "cell_type": "code",
   "execution_count": null,
   "id": "9c0ca983",
   "metadata": {},
   "outputs": [],
   "source": [
    "# Challenge 2: Loops (for and while)\n",
    "# Write a while loop to calculate the sum of all even numbers between 1 and 50.\n",
    "\n",
    "# Your code here"
   ]
  },
  {
   "cell_type": "code",
   "execution_count": null,
   "id": "9f66a457",
   "metadata": {},
   "outputs": [],
   "source": [
    "# Challenge 3: Loops (for and while)\n",
    "# Create a for loop to print all the characters in a string in reverse order.\n",
    "\n",
    "# Your code here"
   ]
  },
  {
   "cell_type": "code",
   "execution_count": null,
   "id": "c623c632",
   "metadata": {},
   "outputs": [],
   "source": [
    "# Challenge 4: Loops (for and while)\n",
    "# Use a while loop to find the factorial of a number provided by the user.\n",
    "# Hint: Multiply numbers in descending order until 1.\n",
    "\n",
    "# Your code here"
   ]
  },
  {
   "cell_type": "code",
   "execution_count": null,
   "id": "1effc3ee",
   "metadata": {},
   "outputs": [],
   "source": [
    "# Challenge 5: Loops (for and while)\n",
    "# Write a for loop to print all the prime numbers between 1 and 100.\n",
    "# Hint: Use nested loops to check if a number is divisible only by 1 and itself.\n",
    "\n",
    "# Your code here"
   ]
  },
  {
   "cell_type": "markdown",
   "id": "944e68a3",
   "metadata": {},
   "source": [
    "## Challenges: User Input\n",
    "1. Ask the user for their favorite movie and print a message recommending it to others. 🎥\n",
    "2. Write a program to ask the user for two numbers and print their sum, difference, and product. ➕➖✖️\n",
    "3. Ask the user for their birth year and calculate their age. 🎂\n",
    "   Hint: Subtract the birth year from the current year.\n",
    "4. Create a program to ask the user for a number and check if it's even or odd. 🔢\n",
    "   Hint: Use the modulo operator `%` to check for evenness.\n",
    "5. Ask the user for their name and a number, then print their name that many times. 🔁\n",
    "   Hint: Use a loop to repeat the name."
   ]
  },
  {
   "cell_type": "code",
   "execution_count": null,
   "id": "303b4246",
   "metadata": {},
   "outputs": [],
   "source": [
    "# Challenge 1: User Input\n",
    "# Ask the user for their favorite movie and print a message recommending it to others.\n",
    "\n",
    "# Your code here"
   ]
  },
  {
   "cell_type": "code",
   "execution_count": null,
   "id": "3d4f3aad",
   "metadata": {},
   "outputs": [],
   "source": [
    "# Challenge 2: User Input\n",
    "# Write a program to ask the user for two numbers and print their sum, difference, and product.\n",
    "\n",
    "# Your code here"
   ]
  },
  {
   "cell_type": "code",
   "execution_count": null,
   "id": "8486f7de",
   "metadata": {},
   "outputs": [],
   "source": [
    "# Challenge 3: User Input\n",
    "# Ask the user for their birth year and calculate their age.\n",
    "# Hint: Subtract the birth year from the current year.\n",
    "\n",
    "# Your code here"
   ]
  },
  {
   "cell_type": "code",
   "execution_count": null,
   "id": "a8192cda",
   "metadata": {},
   "outputs": [],
   "source": [
    "# Challenge 4: User Input\n",
    "# Create a program to ask the user for a number and check if it's even or odd.\n",
    "# Hint: Use the modulo operator % to check for evenness.\n",
    "\n",
    "# Your code here"
   ]
  },
  {
   "cell_type": "code",
   "execution_count": null,
   "id": "e463c9d8",
   "metadata": {},
   "outputs": [],
   "source": [
    "# Challenge 5: User Input\n",
    "# Ask the user for their name and a number, then print their name that many times.\n",
    "# Hint: Use a loop to repeat the name.\n",
    "\n",
    "# Your code here"
   ]
  },
  {
   "cell_type": "markdown",
   "id": "9b191de5",
   "metadata": {},
   "source": [
    "## Challenges: Working with Strings\n",
    "1. Create a string variable to store your name and print it in reverse order. 🔄\n",
    "   Hint: Use slicing to reverse the string.\n",
    "2. Write a program to count the number of vowels in a given string. 🅰️\n",
    "3. Create a string variable and check if it contains the word 'Python'. 🐍\n",
    "4. Write a program to replace all spaces in a string with underscores. ➖\n",
    "5. Create a string variable and print it with the first letter of each word capitalized. 🔤\n",
    "   Hint: Use the `title()` method."
   ]
  },
  {
   "cell_type": "code",
   "execution_count": null,
   "id": "ab56d23a",
   "metadata": {},
   "outputs": [],
   "source": [
    "# Challenge 1: Working with Strings\n",
    "# Create a string variable to store your name and print it in reverse order.\n",
    "# Hint: Use slicing to reverse the string.\n",
    "\n",
    "# Your code here"
   ]
  },
  {
   "cell_type": "code",
   "execution_count": null,
   "id": "e5454949",
   "metadata": {},
   "outputs": [],
   "source": [
    "# Challenge 2: Working with Strings\n",
    "# Write a program to count the number of vowels in a given string.\n",
    "\n",
    "# Your code here"
   ]
  },
  {
   "cell_type": "code",
   "execution_count": null,
   "id": "a1f752d4",
   "metadata": {},
   "outputs": [],
   "source": [
    "# Challenge 3: Working with Strings\n",
    "# Create a string variable and check if it contains the word 'Python'.\n",
    "\n",
    "# Your code here"
   ]
  },
  {
   "cell_type": "code",
   "execution_count": null,
   "id": "d548558f",
   "metadata": {},
   "outputs": [],
   "source": [
    "# Challenge 4: Working with Strings\n",
    "# Write a program to replace all spaces in a string with underscores.\n",
    "\n",
    "# Your code here"
   ]
  },
  {
   "cell_type": "code",
   "execution_count": null,
   "id": "66eb1272",
   "metadata": {},
   "outputs": [],
   "source": [
    "# Challenge 5: Working with Strings\n",
    "# Create a string variable and print it with the first letter of each word capitalized.\n",
    "# Hint: Use the title() method.\n",
    "\n",
    "# Your code here"
   ]
  }
 ],
 "metadata": {
  "kernelspec": {
   "display_name": "Python 3",
   "language": "python",
   "name": "python3"
  },
  "language_info": {
   "name": "python",
   "version": "3.13.3"
  }
 },
 "nbformat": 4,
 "nbformat_minor": 5
}
