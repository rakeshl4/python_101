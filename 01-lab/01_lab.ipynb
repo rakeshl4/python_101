{
 "cells": [
  {
   "cell_type": "markdown",
   "id": "af092cd8",
   "metadata": {},
   "source": [
    "# 🎉 Python Adventures!\n",
    "Welcome to the world of Python programming! 🐍 Let's go on an exciting journey to learn how to code while having fun!"
   ]
  },
  {
   "cell_type": "markdown",
   "id": "efa5b2ad",
   "metadata": {},
   "source": [
    "## 1. Variables and Print Statements ✨\n",
    "Variables are like magic boxes 🧙‍♂️ where you can store your favorite things, like numbers, words, or even emojis! Print statements are your way of showing off what's inside your magic box. Let's learn how to use them!"
   ]
  },
  {
   "cell_type": "markdown",
   "id": "cf4813fa",
   "metadata": {},
   "source": [
    "### Instructions:\n",
    "1. Create a magic box (variable) to store your name. 🧑‍🎤\n",
    "2. Create another magic box to store your age. 🎂\n",
    "3. Use the `print()` spell to show everyone your name and age! ✨"
   ]
  },
  {
   "cell_type": "code",
   "execution_count": 2,
   "id": "e0b33b79",
   "metadata": {},
   "outputs": [
    {
     "name": "stdout",
     "output_type": "stream",
     "text": [
      "My name is Your Name and I am 25 years old.\n"
     ]
    }
   ],
   "source": [
    "# Step 1: Create variables\n",
    "name = 'Your Name'\n",
    "age = 16\n",
    "\n",
    "# Step 2: Print a message\n",
    "print(f'My name is {name} and I am {age} years old.')"
   ]
  },
  {
   "cell_type": "markdown",
   "id": "1bd3b47d",
   "metadata": {},
   "source": [
    "## 1. Variables and Print Statements ✨\n",
    "### Examples:"
   ]
  },
  {
   "cell_type": "code",
   "execution_count": null,
   "id": "48bed430",
   "metadata": {},
   "outputs": [],
   "source": [
    "# Example 1\n",
    "favorite_color = 'Blue'\n",
    "print('My favorite color is', favorite_color)"
   ]
  },
  {
   "cell_type": "code",
   "execution_count": null,
   "id": "e68fe741",
   "metadata": {},
   "outputs": [],
   "source": [
    "# Example 2\n",
    "height_cm = 170\n",
    "print('My height is', height_cm, 'cm')"
   ]
  },
  {
   "cell_type": "code",
   "execution_count": null,
   "id": "aea9862b",
   "metadata": {},
   "outputs": [],
   "source": [
    "# Example 3\n",
    "city = 'New York'\n",
    "country = 'USA'\n",
    "print('I live in', city, ',', country)"
   ]
  },
  {
   "cell_type": "code",
   "execution_count": null,
   "id": "a6dd3a86",
   "metadata": {},
   "outputs": [],
   "source": [
    "# Example 4\n",
    "birth_year = 1995\n",
    "current_year = 2025\n",
    "age = current_year - birth_year\n",
    "print('I am', age, 'years old')"
   ]
  },
  {
   "cell_type": "code",
   "execution_count": null,
   "id": "8e9dc086",
   "metadata": {},
   "outputs": [],
   "source": [
    "# Example 5\n",
    "likes_python = True\n",
    "print('Do I like Python?', likes_python)"
   ]
  },
  {
   "cell_type": "markdown",
   "id": "f0bbb25e",
   "metadata": {},
   "source": [
    "## 2. Conditions (if-else) 🤔\n",
    "Conditions are like making decisions in a game! 🎮 If something is true, you do one thing, and if not, you do something else. Let's learn how to make your code smart and decisive!"
   ]
  },
  {
   "cell_type": "markdown",
   "id": "2271e45c",
   "metadata": {},
   "source": [
    "### Instructions:\n",
    "1. Create a number and check if it's positive, negative, or zero. 🔢\n",
    "2. Use your code to decide what to say for each case. 🗣️\n",
    "3. Print a fun message for each decision! 🎉"
   ]
  },
  {
   "cell_type": "code",
   "execution_count": null,
   "id": "c02331a6",
   "metadata": {},
   "outputs": [],
   "source": [
    "# Step 1: Create a variable\n",
    "number = 10\n",
    "\n",
    "# Step 2: Use if-else conditions\n",
    "if number > 0:\n",
    "    print('The number is positive.')\n",
    "elif number < 0:\n",
    "    print('The number is negative.')\n",
    "else:\n",
    "    print('The number is zero.')"
   ]
  },
  {
   "cell_type": "code",
   "execution_count": null,
   "id": "3eac5987",
   "metadata": {},
   "outputs": [],
   "source": [
    "# Example 1\n",
    "number = 4\n",
    "if number % 2 == 0:\n",
    "    print('The number is even.')\n",
    "else:\n",
    "    print('The number is odd.')"
   ]
  },
  {
   "cell_type": "code",
   "execution_count": null,
   "id": "19be0fa4",
   "metadata": {},
   "outputs": [],
   "source": [
    "# Example 2\n",
    "age = 20\n",
    "if age >= 18:\n",
    "    print('Eligible to vote.')\n",
    "else:\n",
    "    print('Not eligible to vote.')"
   ]
  },
  {
   "cell_type": "code",
   "execution_count": null,
   "id": "5e52ff51",
   "metadata": {},
   "outputs": [],
   "source": [
    "# Example 3\n",
    "text = 'apple'\n",
    "if 'a' in text:\n",
    "    print('The text contains the letter a.')\n",
    "else:\n",
    "    print('The text does not contain the letter a.')"
   ]
  },
  {
   "cell_type": "code",
   "execution_count": null,
   "id": "ba96c588",
   "metadata": {},
   "outputs": [],
   "source": [
    "# Example 4\n",
    "number = 15\n",
    "if number % 5 == 0:\n",
    "    print('The number is divisible by 5.')\n",
    "else:\n",
    "    print('The number is not divisible by 5.')"
   ]
  },
  {
   "cell_type": "code",
   "execution_count": null,
   "id": "2e82dd3d",
   "metadata": {},
   "outputs": [],
   "source": [
    "# Example 5\n",
    "temperature = 25\n",
    "if temperature > 30:\n",
    "    print('It is hot.')\n",
    "elif temperature < 15:\n",
    "    print('It is cold.')\n",
    "else:\n",
    "    print('The temperature is moderate.')"
   ]
  },
  {
   "cell_type": "markdown",
   "id": "f0a9a832",
   "metadata": {},
   "source": [
    "## 3. Loops (for and while) 🔄\n",
    "### Examples:"
   ]
  },
  {
   "cell_type": "code",
   "execution_count": null,
   "id": "a07dd55f",
   "metadata": {},
   "outputs": [],
   "source": [
    "# Example 1\n",
    "print('First 5 multiples of 3:')\n",
    "for i in range(1, 6):\n",
    "    print(i * 3)"
   ]
  },
  {
   "cell_type": "code",
   "execution_count": null,
   "id": "3d414966",
   "metadata": {},
   "outputs": [],
   "source": [
    "# Example 2\n",
    "print('Numbers from 10 to 1:')\n",
    "count = 10\n",
    "while count > 0:\n",
    "    print(count)\n",
    "    count -= 1"
   ]
  },
  {
   "cell_type": "code",
   "execution_count": null,
   "id": "632c3820",
   "metadata": {},
   "outputs": [],
   "source": [
    "# Example 3\n",
    "text = 'Python'\n",
    "print('Characters in the string:')\n",
    "for char in text:\n",
    "    print(char)"
   ]
  },
  {
   "cell_type": "code",
   "execution_count": null,
   "id": "7c72d917",
   "metadata": {},
   "outputs": [],
   "source": [
    "# Example 4\n",
    "total = 0\n",
    "for i in range(1, 11):\n",
    "    total += i\n",
    "print('Sum of numbers from 1 to 10:', total)"
   ]
  },
  {
   "cell_type": "code",
   "execution_count": null,
   "id": "055c5b5d",
   "metadata": {},
   "outputs": [],
   "source": [
    "# Example 5\n",
    "print('Numbers from 1 to 20, skipping multiples of 3:')\n",
    "for i in range(1, 21):\n",
    "    if i % 3 == 0:\n",
    "        continue\n",
    "    print(i)"
   ]
  },
  {
   "cell_type": "markdown",
   "id": "15a9c13c",
   "metadata": {},
   "source": [
    "## Example: While Loop\n",
    "This example demonstrates the use of a while loop to calculate the factorial of a number."
   ]
  },
  {
   "cell_type": "code",
   "execution_count": null,
   "id": "e1fe6f67",
   "metadata": {},
   "outputs": [],
   "source": [
    "# Example: Calculate factorial using a while loop\n",
    "number = 5\n",
    "factorial = 1\n",
    "\n",
    "# Initialize a counter\n",
    "counter = number\n",
    "while counter > 0:\n",
    "    factorial *= counter\n",
    "    counter -= 1\n",
    "\n",
    "print(f'The factorial of {number} is {factorial}')"
   ]
  },
  {
   "cell_type": "markdown",
   "id": "6846ad39",
   "metadata": {},
   "source": [
    "## 4. User Input 🎤\n",
    "User input is like asking your friends questions! 🤔 You can ask them their name, favorite number, or anything you want. Let's learn how to make your code talk to people!"
   ]
  },
  {
   "cell_type": "markdown",
   "id": "9eb57a85",
   "metadata": {},
   "source": [
    "### Instructions:\n",
    "1. Ask your friend to enter their name. 🧑‍🤝‍🧑\n",
    "2. Ask them to enter their favorite number. 🔢\n",
    "3. Print a fun message using their answers! 🎉"
   ]
  },
  {
   "cell_type": "markdown",
   "id": "42605ce8",
   "metadata": {},
   "source": [
    "## 5. Working with Strings 🧵\n",
    "Strings are like necklaces of characters! 💎 You can create, modify, and play with them in Python. Let's learn how to work with strings!"
   ]
  },
  {
   "cell_type": "markdown",
   "id": "1050b796",
   "metadata": {},
   "source": [
    "### Instructions:\n",
    "1. Create a string variable to store your favorite quote. 📝\n",
    "2. Print the length of the string using the `len()` function. 📏\n",
    "3. Convert the string to uppercase and print it. 🔠\n",
    "4. Extract and print the first word of the string. ✂️\n",
    "5. Replace a word in the string with another word and print the result. 🔄"
   ]
  },
  {
   "cell_type": "code",
   "execution_count": null,
   "id": "061215ea",
   "metadata": {},
   "outputs": [],
   "source": [
    "# Step 1: Create a string variable\n",
    "quote = 'The best way to predict the future is to invent it.'\n",
    "\n",
    "# Step 2: Print the length of the string\n",
    "print('Length of the quote:', len(quote))\n",
    "\n",
    "# Step 3: Convert the string to uppercase\n",
    "print('Uppercase quote:', quote.upper())\n",
    "\n",
    "# Step 4: Extract and print the first word\n",
    "first_word = quote.split()[0]\n",
    "print('First word:', first_word)\n",
    "\n",
    "# Step 5: Replace a word in the string\n",
    "modified_quote = quote.replace('invent', 'create')\n",
    "print('Modified quote:', modified_quote)"
   ]
  }
 ],
 "metadata": {
  "kernelspec": {
   "display_name": "Python 3",
   "language": "python",
   "name": "python3"
  },
  "language_info": {
   "codemirror_mode": {
    "name": "ipython",
    "version": 3
   },
   "file_extension": ".py",
   "mimetype": "text/x-python",
   "name": "python",
   "nbconvert_exporter": "python",
   "pygments_lexer": "ipython3",
   "version": "3.12.1"
  }
 },
 "nbformat": 4,
 "nbformat_minor": 5
}
