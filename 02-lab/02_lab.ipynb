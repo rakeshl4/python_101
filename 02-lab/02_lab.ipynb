{
 "cells": [
  {
   "cell_type": "markdown",
   "id": "188a7610",
   "metadata": {},
   "source": [
    "# 🎉 Working with Lists!\n",
    "Lists are one of the most versatile data structures in Python. Let's explore how to use them! 🐍"
   ]
  },
  {
   "cell_type": "markdown",
   "id": "afed9bb8",
   "metadata": {},
   "source": [
    "## 1. Creating Lists ✨\n",
    "Lists are created using square brackets `[]`. Let's learn how to create and use them!"
   ]
  },
  {
   "cell_type": "code",
   "execution_count": 2,
   "id": "b4428c67",
   "metadata": {},
   "outputs": [
    {
     "name": "stdout",
     "output_type": "stream",
     "text": [
      "List elements: [1, 2, 3, 4, 5]\n"
     ]
    }
   ],
   "source": [
    "# Create a list of integers\n",
    "numbers = [1, 2, 3, 4, 5]\n",
    "print('List elements:', numbers)"
   ]
  },
  {
   "cell_type": "markdown",
   "id": "a6799778",
   "metadata": {},
   "source": [
    "## 2. Accessing List Elements 🔍\n",
    "You can access elements of a list using their index."
   ]
  },
  {
   "cell_type": "code",
   "execution_count": 3,
   "id": "14e79e43",
   "metadata": {},
   "outputs": [
    {
     "name": "stdout",
     "output_type": "stream",
     "text": [
      "First element: 1\n",
      "Last element: 5\n"
     ]
    }
   ],
   "source": [
    "# Access elements by index\n",
    "print('First element:', numbers[0])\n",
    "print('Last element:', numbers[-1])"
   ]
  },
  {
   "cell_type": "markdown",
   "id": "d1cab2a1",
   "metadata": {},
   "source": [
    "## 3. Modifying List Elements ✏️\n",
    "You can modify elements of a list by assigning new values to specific indices."
   ]
  },
  {
   "cell_type": "code",
   "execution_count": null,
   "id": "dbd8ce1a",
   "metadata": {},
   "outputs": [],
   "source": [
    "# Modify an element\n",
    "numbers[1] = 10\n",
    "print('Modified list:', numbers)"
   ]
  },
  {
   "cell_type": "markdown",
   "id": "83d5e07b",
   "metadata": {},
   "source": [
    "## 4. Adding and Removing Elements ➕➖\n",
    "You can add elements to a list using the `append()` method and remove them using the `remove()` method."
   ]
  },
  {
   "cell_type": "code",
   "execution_count": null,
   "id": "99f68441",
   "metadata": {},
   "outputs": [],
   "source": [
    "# Add and remove elements\n",
    "numbers.append(6)\n",
    "print('List after appending:', numbers)\n",
    "numbers.remove(3)\n",
    "print('List after removing:', numbers)"
   ]
  },
  {
   "cell_type": "markdown",
   "id": "1fcf06c5",
   "metadata": {},
   "source": [
    "## 5. Iterating Through a List 🔄\n",
    "You can use a loop to iterate through all the elements of a list."
   ]
  },
  {
   "cell_type": "code",
   "execution_count": null,
   "id": "e93bdcfb",
   "metadata": {},
   "outputs": [],
   "source": [
    "# Iterate through the list\n",
    "for num in numbers:\n",
    "    print(num)"
   ]
  },
  {
   "cell_type": "markdown",
   "id": "d8a7b0c5",
   "metadata": {},
   "source": [
    "## 6. Slicing Lists 🍰\n",
    "You can slice lists to access a range of elements."
   ]
  },
  {
   "cell_type": "code",
   "execution_count": null,
   "id": "abfa7437",
   "metadata": {},
   "outputs": [],
   "source": [
    "# Slice the list\n",
    "print('First three elements:', numbers[:3])\n",
    "print('Elements from index 2 to 4:', numbers[2:5])"
   ]
  },
  {
   "cell_type": "markdown",
   "id": "a877fa08",
   "metadata": {},
   "source": [
    "## 7. List Length 📏\n",
    "You can find the length of a list using the `len()` function."
   ]
  },
  {
   "cell_type": "code",
   "execution_count": null,
   "id": "493fa2e6",
   "metadata": {},
   "outputs": [],
   "source": [
    "# Get the length of the list\n",
    "print('Length of the list:', len(numbers))"
   ]
  },
  {
   "cell_type": "markdown",
   "id": "4b4bf89f",
   "metadata": {},
   "source": [
    "## 8. Reversing a List 🔄\n",
    "You can reverse the elements of a list using the `reverse()` method."
   ]
  },
  {
   "cell_type": "code",
   "execution_count": null,
   "id": "cccb6143",
   "metadata": {},
   "outputs": [],
   "source": [
    "# Reverse the list\n",
    "numbers.reverse()\n",
    "print('Reversed list:', numbers)"
   ]
  }
 ],
 "metadata": {
  "kernelspec": {
   "display_name": "Python 3",
   "language": "python",
   "name": "python3"
  },
  "language_info": {
   "codemirror_mode": {
    "name": "ipython",
    "version": 3
   },
   "file_extension": ".py",
   "mimetype": "text/x-python",
   "name": "python",
   "nbconvert_exporter": "python",
   "pygments_lexer": "ipython3",
   "version": "3.12.1"
  }
 },
 "nbformat": 4,
 "nbformat_minor": 5
}
