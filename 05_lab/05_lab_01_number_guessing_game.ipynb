{
 "cells": [
  {
   "cell_type": "markdown",
   "id": "d49dc124",
   "metadata": {},
   "source": [
    "# Building Large Programs in Python 🚀\n",
    "Welcome to the Python Adventure Playground! In this lab, you'll become a coding superhero by building a number guessing game step by step. At each stage, we'll add new features and explain the improvements. Ready to level up? Let's go! 🦸‍♂️🦸‍♀️"
   ]
  },
  {
   "cell_type": "markdown",
   "id": "963e99c6",
   "metadata": {},
   "source": [
    "## Stage 1: Basic Number Guessing Game 🎲\n",
    "Let's start simple! Python will pick a secret number between 1 and 10. You keep guessing until you get it right. The program will tell you if your guess is too high or too low."
   ]
  },
  {
   "cell_type": "code",
   "execution_count": null,
   "id": "453eef63",
   "metadata": {},
   "outputs": [],
   "source": [
    "import random\n",
    "\n",
    "secret = random.randint(1, 10)\n",
    "print(\"I'm thinking of a number between 1 and 10. Can you guess it?\")\n",
    "while True:\n",
    "    guess = int(input(\"Enter your guess: \"))\n",
    "    if guess < secret:\n",
    "        print(\"Too low! Try again.\")\n",
    "    elif guess > secret:\n",
    "        print(\"Too high! Try again.\")\n",
    "    else:\n",
    "        print(\"Congratulations! You guessed it! 🎉\")\n",
    "        break"
   ]
  },
  {
   "cell_type": "markdown",
   "id": "bd77bf23",
   "metadata": {},
   "source": [
    "### What did we do?\n",
    "- Created a random secret number.\n",
    "- Used a loop so you can keep guessing until you get it right.\n",
    "- Gave hints if your guess was too high or too low."
   ]
  },
  {
   "cell_type": "markdown",
   "id": "76dc873b",
   "metadata": {},
   "source": [
    "## Stage 2: Limit the Number of Guesses ⏳\n",
    "Let's make it more challenging! Now you only get 3 chances to guess the number. If you don't guess it in 3 tries, the game ends and reveals the secret number."
   ]
  },
  {
   "cell_type": "code",
   "execution_count": null,
   "id": "974e732f",
   "metadata": {},
   "outputs": [],
   "source": [
    "import random\n",
    "\n",
    "secret = random.randint(1, 10)\n",
    "chances = 3\n",
    "print(\"I'm thinking of a number between 1 and 10. You have 3 chances!\")\n",
    "for attempt in range(1, chances + 1):\n",
    "    guess = int(input(f\"Attempt {attempt}: Enter your guess: \"))\n",
    "    if guess < secret:\n",
    "        print(\"Too low!\")\n",
    "    elif guess > secret:\n",
    "        print(\"Too high!\")\n",
    "    else:\n",
    "        print(f\"Awesome! You guessed it in {attempt} tries! 🎉\")\n",
    "        break\n",
    "else:\n",
    "    print(f\"Sorry, you're out of chances! The number was {secret}.\")"
   ]
  },
  {
   "cell_type": "markdown",
   "id": "7aced5f2",
   "metadata": {},
   "source": [
    "### What did we improve?\n",
    "- Added a limit of 3 guesses using a for loop.\n",
    "- Told the user how many attempts they have left.\n",
    "- Revealed the secret number if the user didn't guess it."
   ]
  },
  {
   "cell_type": "markdown",
   "id": "6a148578",
   "metadata": {},
   "source": [
    "## Stage 3: Turn the Game into a Function 🧩\n",
    "Let's organize our code by putting the game into a function. This makes it easier to reuse and add more features later!"
   ]
  },
  {
   "cell_type": "code",
   "execution_count": null,
   "id": "43fe62b1",
   "metadata": {},
   "outputs": [],
   "source": [
    "def number_guessing_game(chances=3):\n",
    "    import random\n",
    "    secret = random.randint(1, 10)\n",
    "    print(f\"I'm thinking of a number between 1 and 10. You have {chances} chances!\")\n",
    "    for attempt in range(1, chances + 1):\n",
    "        guess = int(input(f\"Attempt {attempt}: Enter your guess: \"))\n",
    "        if guess < secret:\n",
    "            print(\"Too low!\")\n",
    "        elif guess > secret:\n",
    "            print(\"Too high!\")\n",
    "        else:\n",
    "            print(f\"Awesome! You guessed it in {attempt} tries! 🎉\")\n",
    "            return\n",
    "    print(f\"Sorry, you're out of chances! The number was {secret}.\")\n",
    "\n",
    "number_guessing_game()"
   ]
  },
  {
   "cell_type": "markdown",
   "id": "292b40ba",
   "metadata": {},
   "source": [
    "### Why is this better?\n",
    "- The game is now a function, so you can call it again and again.\n",
    "- You can easily change the number of chances by passing a different value to the function."
   ]
  },
  {
   "cell_type": "markdown",
   "id": "b9eb0886",
   "metadata": {},
   "source": [
    "## Stage 4: Play Again? 🔄\n",
    "Let's add a feature so you can play the game as many times as you want! After each game, you'll be asked if you want to play again."
   ]
  },
  {
   "cell_type": "code",
   "execution_count": null,
   "id": "7f3a0bef",
   "metadata": {},
   "outputs": [],
   "source": [
    "def number_guessing_game(chances=3):\n",
    "    import random\n",
    "    secret = random.randint(1, 10)\n",
    "    print(f\"I'm thinking of a number between 1 and 10. You have {chances} chances!\")\n",
    "    for attempt in range(1, chances + 1):\n",
    "        guess = int(input(f\"Attempt {attempt}: Enter your guess: \"))\n",
    "        if guess < secret:\n",
    "            print(\"Too low!\")\n",
    "        elif guess > secret:\n",
    "            print(\"Too high!\")\n",
    "        else:\n",
    "            print(f\"Awesome! You guessed it in {attempt} tries! 🎉\")\n",
    "            return\n",
    "    print(f\"Sorry, you're out of chances! The number was {secret}.\")\n",
    "\n",
    "while True:\n",
    "    number_guessing_game()\n",
    "    again = input(\"Do you want to play again? (yes/no): \").strip().lower()\n",
    "    if again != 'yes':\n",
    "        print(\"Thanks for playing! See you next time! 👋\")\n",
    "        break"
   ]
  },
  {
   "cell_type": "markdown",
   "id": "ceea20d1",
   "metadata": {},
   "source": [
    "### Final improvements:\n",
    "- Added a loop to let you play again and again.\n",
    "- The game is now more fun and interactive!"
   ]
  }
 ],
 "metadata": {
  "language_info": {
   "name": "python"
  }
 },
 "nbformat": 4,
 "nbformat_minor": 5
}
