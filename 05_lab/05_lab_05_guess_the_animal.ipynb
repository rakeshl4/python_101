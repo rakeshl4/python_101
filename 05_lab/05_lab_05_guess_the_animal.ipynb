{
 "cells": [
  {
   "cell_type": "markdown",
   "id": "5f3d6c6f",
   "metadata": {},
   "source": [
    "# Guess the Animal Game 🐾\n",
    "Let's build a fun Guess the Animal game! The computer will think of an animal, and you'll try to guess it by asking yes/no questions. Ready to play? Let's go!"
   ]
  },
  {
   "cell_type": "markdown",
   "id": "0bc0e76d",
   "metadata": {},
   "source": [
    "## Step 1: The Computer Picks an Animal\n",
    "We'll start by letting the computer pick a secret animal from a list. We'll show the list to the user."
   ]
  },
  {
   "cell_type": "code",
   "execution_count": null,
   "id": "4383ea59",
   "metadata": {},
   "outputs": [],
   "source": [
    "import random\n",
    "\n",
    "animals = [\"cat\", \"dog\", \"elephant\", \"giraffe\", \"lion\", \"tiger\", \"rabbit\", \"zebra\"]\n",
    "secret_animal = random.choice(animals)\n",
    "print(\"I'm thinking of one of these animals:\")\n",
    "print(\", \".join(animals))"
   ]
  },
  {
   "cell_type": "markdown",
   "id": "0bdfd1c8",
   "metadata": {},
   "source": [
    "## Step 2: Ask Yes/No Questions\n",
    "Now, let's let the user ask yes/no questions about the animal. We'll give some example questions to help."
   ]
  },
  {
   "cell_type": "code",
   "execution_count": null,
   "id": "e73dcba9",
   "metadata": {},
   "outputs": [],
   "source": [
    "# Example questions:\n",
    "# - Does it have stripes?\n",
    "# - Is it bigger than a dog?\n",
    "# - Can it fly?\n",
    "# For now, the user will try to guess the animal directly.\n",
    "\n",
    "for attempt in range(1, 6):\n",
    "    guess = input(f\"Attempt {attempt}: What animal am I thinking of? \").strip().lower()\n",
    "    if guess == secret_animal:\n",
    "        print(f\"Correct! The animal was {secret_animal}. You win! 🎉\")\n",
    "        break\n",
    "    else:\n",
    "        print(\"Nope, that's not it. Try again!\")\n",
    "else:\n",
    "    print(f\"Sorry, you're out of guesses! The animal was {secret_animal}.\")"
   ]
  },
  {
   "cell_type": "markdown",
   "id": "e1be548d",
   "metadata": {},
   "source": [
    "### What did we do?\n",
    "- The computer picked a secret animal from a list.\n",
    "- The user had 5 chances to guess the animal.\n",
    "- The game gave feedback after each guess and revealed the answer at the end."
   ]
  },
  {
   "cell_type": "markdown",
   "id": "3987b09c",
   "metadata": {},
   "source": [
    "## Step 3: Make It a Function and Play Again\n",
    "Let's organize the game into a function and let the user play as many times as they want!"
   ]
  },
  {
   "cell_type": "code",
   "execution_count": null,
   "id": "a883e5a8",
   "metadata": {},
   "outputs": [],
   "source": [
    "def guess_the_animal():\n",
    "    import random\n",
    "    animals = [\"cat\", \"dog\", \"elephant\", \"giraffe\", \"lion\", \"tiger\", \"rabbit\", \"zebra\"]\n",
    "    secret_animal = random.choice(animals)\n",
    "    print(\"I'm thinking of one of these animals:\")\n",
    "    print(\", \".join(animals))\n",
    "    for attempt in range(1, 6):\n",
    "        guess = input(f\"Attempt {attempt}: What animal am I thinking of? \").strip().lower()\n",
    "        if guess == secret_animal:\n",
    "            print(f\"Correct! The animal was {secret_animal}. You win! 🎉\")\n",
    "            return\n",
    "        else:\n",
    "            print(\"Nope, that's not it. Try again!\")\n",
    "    print(f\"Sorry, you're out of guesses! The animal was {secret_animal}.\")\n",
    "\n",
    "while True:\n",
    "    guess_the_animal()\n",
    "    again = input(\"Do you want to play again? (yes/no): \").strip().lower()\n",
    "    if again != 'yes':\n",
    "        print(\"Thanks for playing Guess the Animal! 🐾\")\n",
    "        break"
   ]
  },
  {
   "cell_type": "markdown",
   "id": "8c63c5c5",
   "metadata": {},
   "source": [
    "### Why is this better?\n",
    "- The game is now a function, so you can play again easily.\n",
    "- You can add more animals or features later!"
   ]
  }
 ],
 "metadata": {
  "language_info": {
   "name": "python"
  }
 },
 "nbformat": 4,
 "nbformat_minor": 5
}
