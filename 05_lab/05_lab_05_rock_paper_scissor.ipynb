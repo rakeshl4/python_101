{
 "cells": [
  {
   "cell_type": "markdown",
   "id": "477abc5f",
   "metadata": {},
   "source": [
    "# Rock, Paper, Scissors Game ✊🖐✌️\n",
    "Let's build a fun Rock, Paper, Scissors game step by step! At each stage, we'll add new features and explain what we improved. Ready to play? Let's go!"
   ]
  },
  {
   "cell_type": "markdown",
   "id": "e720d344",
   "metadata": {},
   "source": [
    "## Step 1: Play One Round\n",
    "Let's start by letting the user play one round against the computer. The computer will randomly choose rock, paper, or scissors."
   ]
  },
  {
   "cell_type": "code",
   "execution_count": null,
   "id": "44063cb8",
   "metadata": {},
   "outputs": [],
   "source": [
    "import random\n",
    "\n",
    "choices = [\"rock\", \"paper\", \"scissors\"]\n",
    "computer_choice = random.choice(choices)\n",
    "user_choice = input(\"Choose rock, paper, or scissors: \").lower()\n",
    "print(f\"Computer chose: {computer_choice}\")\n",
    "print(f\"You chose: {user_choice}\")"
   ]
  },
  {
   "cell_type": "markdown",
   "id": "702d0181",
   "metadata": {},
   "source": [
    "### What did we do?\n",
    "- The computer picks a random choice.\n",
    "- The user enters their choice.\n",
    "- Both choices are displayed."
   ]
  },
  {
   "cell_type": "markdown",
   "id": "d4424265",
   "metadata": {},
   "source": [
    "## Step 2: Decide Who Wins\n",
    "Now let's add logic to decide who wins the round!"
   ]
  },
  {
   "cell_type": "code",
   "execution_count": null,
   "id": "146fa93e",
   "metadata": {},
   "outputs": [],
   "source": [
    "import random\n",
    "\n",
    "choices = [\"rock\", \"paper\", \"scissors\"]\n",
    "computer_choice = random.choice(choices)\n",
    "user_choice = input(\"Choose rock, paper, or scissors: \").lower()\n",
    "print(f\"Computer chose: {computer_choice}\")\n",
    "print(f\"You chose: {user_choice}\")\n",
    "\n",
    "if user_choice == computer_choice:\n",
    "    print(\"It's a tie!\")\n",
    "elif (\n",
    "    (user_choice == \"rock\" and computer_choice == \"scissors\") or\n",
    "    (user_choice == \"paper\" and computer_choice == \"rock\") or\n",
    "    (user_choice == \"scissors\" and computer_choice == \"paper\")\n",
    "):\n",
    "    print(\"You win! 🎉\")\n",
    "else:\n",
    "    print(\"Computer wins! 🤖\")"
   ]
  },
  {
   "cell_type": "markdown",
   "id": "b870e666",
   "metadata": {},
   "source": [
    "### What did we improve?\n",
    "- Added rules to decide who wins or if it's a tie.\n",
    "- Gave feedback to the user about the result."
   ]
  },
  {
   "cell_type": "markdown",
   "id": "c4518f89",
   "metadata": {},
   "source": [
    "## Step 3: Play Multiple Rounds\n",
    "Let's make the game more fun by letting you play 5 rounds and keeping score!"
   ]
  },
  {
   "cell_type": "code",
   "execution_count": null,
   "id": "3409b759",
   "metadata": {},
   "outputs": [],
   "source": [
    "import random\n",
    "\n",
    "choices = [\"rock\", \"paper\", \"scissors\"]\n",
    "user_score = 0\n",
    "computer_score = 0\n",
    "rounds = 5\n",
    "\n",
    "for round_num in range(1, rounds + 1):\n",
    "    print(f\"\\nRound {round_num}\")\n",
    "    computer_choice = random.choice(choices)\n",
    "    user_choice = input(\"Choose rock, paper, or scissors: \").lower()\n",
    "    print(f\"Computer chose: {computer_choice}\")\n",
    "    print(f\"You chose: {user_choice}\")\n",
    "    if user_choice == computer_choice:\n",
    "        print(\"It's a tie!\")\n",
    "    elif (\n",
    "        (user_choice == \"rock\" and computer_choice == \"scissors\") or\n",
    "        (user_choice == \"paper\" and computer_choice == \"rock\") or\n",
    "        (user_choice == \"scissors\" and computer_choice == \"paper\")\n",
    "    ):\n",
    "        print(\"You win this round! 🎉\")\n",
    "        user_score += 1\n",
    "    else:\n",
    "        print(\"Computer wins this round! 🤖\")\n",
    "        computer_score += 1\n",
    "\n",
    "print(f\"\\nFinal Score: You {user_score} - Computer {computer_score}\")\n",
    "if user_score > computer_score:\n",
    "    print(\"You are the champion! 🏆\")\n",
    "elif user_score < computer_score:\n",
    "    print(\"Computer is the champion! 🤖\")\n",
    "else:\n",
    "    print(\"It's a tie overall!\")"
   ]
  },
  {
   "cell_type": "markdown",
   "id": "abe2c303",
   "metadata": {},
   "source": [
    "### What did we improve?\n",
    "- Added a loop to play multiple rounds.\n",
    "- Kept score for both the user and the computer.\n",
    "- Announced the overall winner at the end."
   ]
  },
  {
   "cell_type": "markdown",
   "id": "553ac285",
   "metadata": {},
   "source": [
    "## Step 4: Make It a Function\n",
    "Let's organize our code by putting the game into a function. This makes it easier to play again or change the number of rounds!"
   ]
  },
  {
   "cell_type": "code",
   "execution_count": null,
   "id": "26e6cf10",
   "metadata": {},
   "outputs": [],
   "source": [
    "def rock_paper_scissors(rounds=5):\n",
    "    import random\n",
    "    choices = [\"rock\", \"paper\", \"scissors\"]\n",
    "    user_score = 0\n",
    "    computer_score = 0\n",
    "    for round_num in range(1, rounds + 1):\n",
    "        print(f\"\\nRound {round_num}\")\n",
    "        computer_choice = random.choice(choices)\n",
    "        user_choice = input(\"Choose rock, paper, or scissors: \").lower()\n",
    "        print(f\"Computer chose: {computer_choice}\")\n",
    "        print(f\"You chose: {user_choice}\")\n",
    "        if user_choice == computer_choice:\n",
    "            print(\"It's a tie!\")\n",
    "        elif (\n",
    "            (user_choice == \"rock\" and computer_choice == \"scissors\") or\n",
    "            (user_choice == \"paper\" and computer_choice == \"rock\") or\n",
    "            (user_choice == \"scissors\" and computer_choice == \"paper\")\n",
    "        ):\n",
    "            print(\"You win this round! 🎉\")\n",
    "            user_score += 1\n",
    "        else:\n",
    "            print(\"Computer wins this round! 🤖\")\n",
    "            computer_score += 1\n",
    "    print(f\"\\nFinal Score: You {user_score} - Computer {computer_score}\")\n",
    "    if user_score > computer_score:\n",
    "        print(\"You are the champion! 🏆\")\n",
    "    elif user_score < computer_score:\n",
    "        print(\"Computer is the champion! 🤖\")\n",
    "    else:\n",
    "        print(\"It's a tie overall!\")\n",
    "\n",
    "rock_paper_scissors()"
   ]
  },
  {
   "cell_type": "markdown",
   "id": "cd4aecd0",
   "metadata": {},
   "source": [
    "### Why is this better?\n",
    "- The game is now a function, so you can play again easily.\n",
    "- You can change the number of rounds by passing a different value to the function."
   ]
  }
 ],
 "metadata": {
  "language_info": {
   "name": "python"
  }
 },
 "nbformat": 4,
 "nbformat_minor": 5
}
