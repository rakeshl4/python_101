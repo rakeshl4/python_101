{
 "cells": [
  {
   "cell_type": "markdown",
   "id": "946f3a13",
   "metadata": {},
   "source": [
    "# Python Modules & Namespaces: Challenges! 🧩📦\n",
    "Ready to become a Module Master? Try these fun challenges to practice using modules and namespaces in Python!"
   ]
  },
  {
   "cell_type": "markdown",
   "id": "9309a374",
   "metadata": {},
   "source": [
    "## Challenge 1: My Animal Sounds Module 🐶🐱\n",
    "1. Create a new file called `my_animals.py`.\n",
    "2. In that file, write two functions: `dog_sound()` and `cat_sound()`. Each should print a fun sound (like \"Woof!\" or \"Meow!\").\n",
    "3. In your main file, import your module and call both functions!"
   ]
  },
  {
   "cell_type": "markdown",
   "id": "06a2bd68",
   "metadata": {},
   "source": [
    "## Challenge 2: Colorful Module 🎨\n",
    "1. Make a module called `my_colors.py`.\n",
    "2. Add functions like `red()`, `blue()`, and `green()` that print something fun about each color (use emojis!).\n",
    "3. Import your module and call all the color functions."
   ]
  },
  {
   "cell_type": "markdown",
   "id": "e5723fb7",
   "metadata": {},
   "source": [
    "## Challenge 3: Name Clash! 🚨\n",
    "1. Create two modules: `fruits.py` and `vehicles.py`.\n",
    "2. In both, write a function called `show()` that prints something different (e.g., \"Apple!\" in `fruits.py`, \"Car!\" in `vehicles.py`).\n",
    "3. In your main file, import both modules and call `fruits.show()` and `vehicles.show()`. See how namespaces keep things organized!"
   ]
  },
  {
   "cell_type": "markdown",
   "id": "66e93402",
   "metadata": {},
   "source": [
    "## Challenge 4: Built-in Module Magic ✨\n",
    "1. Import the `random` module.\n",
    "2. Use `random.choice()` to pick a random animal from a list and print it.\n",
    "3. Try using another built-in module, like `math`, to do something cool (like finding the square root of 49)."
   ]
  },
  {
   "cell_type": "markdown",
   "id": "2c70abed",
   "metadata": {},
   "source": [
    "## Challenge 5: Super Importer! 🦸‍♂️\n",
    "1. Import a module using an alias (nickname) with `as`.\n",
    "2. For example, import `math` as `m` and use `m.pi` to print the value of pi.\n",
    "3. Try making your own module and import it with a nickname!"
   ]
  },
  {
   "cell_type": "markdown",
   "id": "a1afceb6",
   "metadata": {},
   "source": [
    "## Bonus Challenge: The Ultimate Toolbox 🧰\n",
    "1. Make a module called `toolbox.py`.\n",
    "2. Add at least three different functions (like `hammer()`, `screwdriver()`, `wrench()`) that print what each tool does.\n",
    "3. Import your toolbox and use all your tools in your main file!"
   ]
  }
 ],
 "metadata": {
  "kernelspec": {
   "display_name": "Python 3",
   "language": "python",
   "name": "python3"
  },
  "language_info": {
   "name": "python",
   "version": "3.13.3"
  }
 },
 "nbformat": 4,
 "nbformat_minor": 5
}
