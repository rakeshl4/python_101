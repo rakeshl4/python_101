{
 "cells": [
  {
   "cell_type": "markdown",
   "id": "488249db",
   "metadata": {},
   "source": [
    "# Python Modules and Namespaces 📦🌐\n",
    "Welcome, young coder! Today, we're going on an adventure to discover how Python lets you organize your code using magical boxes called **modules** and **namespaces**! 🧙‍♂️✨\n",
    "\n",
    "Modules help you split your code into different files (like putting your toys in different boxes), and namespaces help you make sure your toys never get mixed up! Let's explore how to use them in Python, with lots of fun examples and emojis!"
   ]
  },
  {
   "cell_type": "markdown",
   "id": "063646bd",
   "metadata": {},
   "source": [
    "## 1. What is a Module? 🤔🍪\n",
    "A **module** is just a Python file (`.py`) that contains code—like functions, classes, or variables. Imagine a module as a special box where you keep your favorite cookies 🍪, and you can share them with your friends by opening the box!"
   ]
  },
  {
   "cell_type": "code",
   "execution_count": null,
   "id": "8e491642",
   "metadata": {},
   "outputs": [],
   "source": [
    "# Let's pretend this is in a file called mycookies.py\n",
    "\n",
    "def chocolate_cookie():\n",
    "    print(\"Yum! Chocolate cookie! 🍫\")\n",
    "\n",
    "def vanilla_cookie():\n",
    "    print(\"Yum! Vanilla cookie! 🍦\")"
   ]
  },
  {
   "cell_type": "markdown",
   "id": "23449dfb",
   "metadata": {},
   "source": [
    "You can create as many modules (boxes) as you want, each with different things inside!"
   ]
  },
  {
   "cell_type": "markdown",
   "id": "6c49c721",
   "metadata": {},
   "source": [
    "## 2. Importing Modules 📥🧳\n",
    "You can use the `import` statement to bring in code from another module. It's like opening your friend's toy box and playing with their toys!"
   ]
  },
  {
   "cell_type": "code",
   "execution_count": null,
   "id": "818eacb0",
   "metadata": {},
   "outputs": [],
   "source": [
    "# Let's use the cookies from mycookies.py!\n",
    "import mycookies\n",
    "\n",
    "mycookies.chocolate_cookie()  # Yum! Chocolate cookie! 🍫\n",
    "mycookies.vanilla_cookie()    # Yum! Vanilla cookie! 🍦"
   ]
  },
  {
   "cell_type": "markdown",
   "id": "8ef1c3bc",
   "metadata": {},
   "source": [
    "You can also import just one thing from a module, like picking only your favorite toy from the box!"
   ]
  },
  {
   "cell_type": "code",
   "execution_count": null,
   "id": "78a1e0c2",
   "metadata": {},
   "outputs": [],
   "source": [
    "from mycookies import chocolate_cookie\n",
    "\n",
    "chocolate_cookie()  # Yum! Chocolate cookie! 🍫"
   ]
  },
  {
   "cell_type": "markdown",
   "id": "60d6569b",
   "metadata": {},
   "source": [
    "## 3. What is a Namespace? 🌐🗃️\n",
    "A **namespace** is like a label on your toy box. Each box (module) has its own label, so you never mix up your toys! You can have the same toy name in different boxes, and Python will know which one you mean by looking at the label."
   ]
  },
  {
   "cell_type": "code",
   "execution_count": null,
   "id": "a1e8c559",
   "metadata": {},
   "outputs": [],
   "source": [
    "# In animals.py\n",
    "\n",
    "def say_hello():\n",
    "    print(\"Woof! 🐶\")\n",
    "\n",
    "# In robots.py\n",
    "\n",
    "def say_hello():\n",
    "    print(\"Beep boop! 🤖\")\n",
    "\n",
    "# In your main file\n",
    "import animals\n",
    "import robots\n",
    "\n",
    "animals.say_hello()  # Woof! 🐶\n",
    "robots.say_hello()   # Beep boop! 🤖"
   ]
  },
  {
   "cell_type": "markdown",
   "id": "b907a228",
   "metadata": {},
   "source": [
    "See? Even though both have a `say_hello` function, Python knows which one you want by looking at the module name (the box label)!"
   ]
  },
  {
   "cell_type": "markdown",
   "id": "475e2a87",
   "metadata": {},
   "source": [
    "## 4. Importing with Aliases and Using Built-in Modules 🏷️🔧\n",
    "You can use `as` to give a module a nickname (alias). Python also comes with many built-in modules—like a toolbox full of cool gadgets!"
   ]
  },
  {
   "cell_type": "code",
   "execution_count": null,
   "id": "90bb2c85",
   "metadata": {},
   "outputs": [],
   "source": [
    "import math as m\n",
    "print(m.sqrt(25))  # 5.0\n",
    "\n",
    "import random as r\n",
    "print(r.choice([\"apple\", \"banana\", \"cherry\"]))  # Random fruit! 🍎🍌🍒"
   ]
  },
  {
   "cell_type": "markdown",
   "id": "97f2ffa0",
   "metadata": {},
   "source": [
    "## 5. More Fun Examples! 🎲🎨\n",
    "\n",
    "- You can make a module called `colors.py` with functions to print your favorite colors!\n",
    "- Or a module called `games.py` with different mini-games!\n",
    "\n",
    "**colors.py**\n",
    "```python\n",
    "def red():\n",
    "    print(\"Red like a rose! 🌹\")\n",
    "def blue():\n",
    "    print(\"Blue like the sky! ☁️\")\n",
    "```\n",
    "\n",
    "**games.py**\n",
    "```python\n",
    "def guess_number():\n",
    "    print(\"Let's play guess the number! 🎲\")\n",
    "```\n",
    "\n",
    "**main.py**\n",
    "```python\n",
    "import colors\n",
    "import games\n",
    "colors.red()\n",
    "games.guess_number()\n",
    "```"
   ]
  }
 ],
 "metadata": {
  "kernelspec": {
   "display_name": "Python 3",
   "language": "python",
   "name": "python3"
  },
  "language_info": {
   "codemirror_mode": {
    "name": "ipython",
    "version": 3
   },
   "file_extension": ".py",
   "mimetype": "text/x-python",
   "name": "python",
   "nbconvert_exporter": "python",
   "pygments_lexer": "ipython3",
   "version": "3.12.1"
  }
 },
 "nbformat": 4,
 "nbformat_minor": 5
}
