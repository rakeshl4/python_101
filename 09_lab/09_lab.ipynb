{
 "cells": [
  {
   "cell_type": "markdown",
   "id": "32b600d5",
   "metadata": {},
   "source": [
    "# All About Classes in Python! 🏫🐍\n",
    "Welcome to the world of classes! In this lab, you'll learn how to create your own magical blueprints for objects in Python. We'll explore all the important concepts in a fun and easy way, with lots of examples!"
   ]
  },
  {
   "cell_type": "markdown",
   "id": "6b30ca3d",
   "metadata": {},
   "source": [
    "## 1. What is a Class? 🤔\n",
    "A class is like a recipe or a blueprint for making objects. Imagine a class as a cookie cutter, and the objects are the cookies you make with it!"
   ]
  },
  {
   "cell_type": "code",
   "execution_count": null,
   "id": "f6a137a5",
   "metadata": {},
   "outputs": [],
   "source": [
    "# Example: A simple class\n",
    "class Cookie:\n",
    "    pass\n",
    "\n",
    "my_cookie = Cookie()\n",
    "print(type(my_cookie))  # <class '__main__.Cookie'>"
   ]
  },
  {
   "cell_type": "markdown",
   "id": "6e04e989",
   "metadata": {},
   "source": [
    "## 2. Adding Attributes (Properties) 🏷️\n",
    "Attributes are like the features of your object. For a cookie, it could be its flavor or shape!"
   ]
  },
  {
   "cell_type": "code",
   "execution_count": null,
   "id": "2b7064b6",
   "metadata": {},
   "outputs": [],
   "source": [
    "class Cookie:\n",
    "    def __init__(self, flavor, shape):\n",
    "        self.flavor = flavor\n",
    "        self.shape = shape\n",
    "\n",
    "my_cookie = Cookie(\"chocolate\", \"star\")\n",
    "print(my_cookie.flavor)  # chocolate\n",
    "print(my_cookie.shape)   # star"
   ]
  },
  {
   "cell_type": "markdown",
   "id": "6cb7227f",
   "metadata": {},
   "source": [
    "## 3. Adding Methods (Actions) 🏃‍♂️\n",
    "Methods are like the things your object can do! For a cookie, maybe it can crumble or be eaten."
   ]
  },
  {
   "cell_type": "code",
   "execution_count": null,
   "id": "46325ef7",
   "metadata": {},
   "outputs": [],
   "source": [
    "class Cookie:\n",
    "    def __init__(self, flavor, shape):\n",
    "        self.flavor = flavor\n",
    "        self.shape = shape\n",
    "    def eat(self):\n",
    "        print(f\"Yum! You ate a {self.flavor} {self.shape} cookie!\")\n",
    "\n",
    "my_cookie = Cookie(\"vanilla\", \"circle\")\n",
    "my_cookie.eat()"
   ]
  },
  {
   "cell_type": "markdown",
   "id": "1079c611",
   "metadata": {},
   "source": [
    "## 4. The Magic of `self` 🪄\n",
    "`self` is how your object talks about itself! It lets you access the object's own attributes and methods."
   ]
  },
  {
   "cell_type": "code",
   "execution_count": null,
   "id": "e9cf6404",
   "metadata": {},
   "outputs": [],
   "source": [
    "class Dog:\n",
    "    def __init__(self, name):\n",
    "        self.name = name\n",
    "    def bark(self):\n",
    "        print(f\"{self.name} says woof!\")\n",
    "\n",
    "my_dog = Dog(\"Buddy\")\n",
    "my_dog.bark()"
   ]
  },
  {
   "cell_type": "markdown",
   "id": "25eacacd",
   "metadata": {},
   "source": [
    "## 5. Creating Multiple Objects 🧑‍🤝‍🧑\n",
    "You can make as many objects as you want from a class, each with their own features!"
   ]
  },
  {
   "cell_type": "code",
   "execution_count": null,
   "id": "6fbf666c",
   "metadata": {},
   "outputs": [],
   "source": [
    "cookie1 = Cookie(\"chocolate\", \"star\")\n",
    "cookie2 = Cookie(\"strawberry\", \"heart\")\n",
    "cookie1.eat()\n",
    "cookie2.eat()"
   ]
  },
  {
   "cell_type": "markdown",
   "id": "65a12b11",
   "metadata": {},
   "source": [
    "## 6. Changing Attributes and Using Methods\n",
    "You can change an object's attributes and call its methods any time!"
   ]
  },
  {
   "cell_type": "code",
   "execution_count": null,
   "id": "a753bf6a",
   "metadata": {},
   "outputs": [],
   "source": [
    "my_dog = Dog(\"Max\")\n",
    "print(my_dog.name)  # Max\n",
    "my_dog.name = \"Charlie\"\n",
    "my_dog.bark()       # Charlie says woof!"
   ]
  },
  {
   "cell_type": "markdown",
   "id": "08a03141",
   "metadata": {},
   "source": [
    "## 7. Inheritance: Making Super Classes! 🦸‍♂️\n",
    "You can make a new class that takes all the features of another class, and then adds more! It's like a superhero getting new powers."
   ]
  },
  {
   "cell_type": "code",
   "execution_count": null,
   "id": "68bed86b",
   "metadata": {},
   "outputs": [],
   "source": [
    "class Animal:\n",
    "    def speak(self):\n",
    "        print(\"Some sound!\")\n",
    "\n",
    "class Cat(Animal):\n",
    "    def speak(self):\n",
    "        print(\"Meow!\")\n",
    "\n",
    "my_cat = Cat()\n",
    "my_cat.speak()  # Meow!"
   ]
  },
  {
   "cell_type": "markdown",
   "id": "f3ed59e1",
   "metadata": {},
   "source": [
    "## 8. Class vs. Instance Attributes\n",
    "Class attributes are shared by all objects, while instance attributes are unique to each object."
   ]
  },
  {
   "cell_type": "code",
   "execution_count": null,
   "id": "f1eb974e",
   "metadata": {},
   "outputs": [],
   "source": [
    "class Bird:\n",
    "    wings = 2  # Class attribute\n",
    "    def __init__(self, name):\n",
    "        self.name = name  # Instance attribute\n",
    "\n",
    "bird1 = Bird(\"Tweety\")\n",
    "bird2 = Bird(\"Polly\")\n",
    "print(bird1.wings, bird2.wings)  # 2 2\n",
    "print(bird1.name, bird2.name)    # Tweety Polly"
   ]
  },
  {
   "cell_type": "markdown",
   "id": "08f03e38",
   "metadata": {},
   "source": [
    "## 9. Special Methods: The Magic Dunders ✨\n",
    "Special methods (like `__init__`, `__str__`, etc.) let you control how your objects behave in special situations."
   ]
  },
  {
   "cell_type": "code",
   "execution_count": null,
   "id": "4eb71a90",
   "metadata": {},
   "outputs": [],
   "source": [
    "class Book:\n",
    "    def __init__(self, title):\n",
    "        self.title = title\n",
    "    def __str__(self):\n",
    "        return f\"Book: {self.title}\"\n",
    "\n",
    "my_book = Book(\"Harry Potter\")\n",
    "print(my_book)  # Book: Harry Potter"
   ]
  }
 ],
 "metadata": {
  "language_info": {
   "name": "python"
  }
 },
 "nbformat": 4,
 "nbformat_minor": 5
}
