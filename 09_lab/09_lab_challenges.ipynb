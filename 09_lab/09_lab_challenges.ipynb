{
 "cells": [
  {
   "cell_type": "markdown",
   "id": "3a9e529c",
   "metadata": {},
   "source": [
    "# Python Classes Challenges 🏫✨\n",
    "Let's practice using classes in Python! Try these fun and simple challenges to become a class-creating superstar."
   ]
  },
  {
   "cell_type": "markdown",
   "id": "62984acf",
   "metadata": {},
   "source": [
    "## Challenge 1: Create a Dog Class 🐶\n",
    "Make a class called `Dog` that has a name attribute. Create a dog named \"Buddy\" and print its name."
   ]
  },
  {
   "cell_type": "code",
   "execution_count": null,
   "id": "93552674",
   "metadata": {},
   "outputs": [],
   "source": [
    "# Your code here"
   ]
  },
  {
   "cell_type": "markdown",
   "id": "748f3046",
   "metadata": {},
   "source": [
    "## Challenge 2: Add a Method to Bark 🗣️\n",
    "Add a method to your `Dog` class called `bark` that prints \"Woof!\". Make your dog bark!"
   ]
  },
  {
   "cell_type": "code",
   "execution_count": null,
   "id": "d66798ab",
   "metadata": {},
   "outputs": [],
   "source": [
    "# Your code here"
   ]
  },
  {
   "cell_type": "markdown",
   "id": "7666755f",
   "metadata": {},
   "source": [
    "## Challenge 3: Make a Cat Class 🐱\n",
    "Create a class called `Cat` with a name and a method called `meow` that prints \"Meow!\". Create a cat and make it meow."
   ]
  },
  {
   "cell_type": "code",
   "execution_count": null,
   "id": "f6edd99b",
   "metadata": {},
   "outputs": [],
   "source": [
    "# Your code here"
   ]
  },
  {
   "cell_type": "markdown",
   "id": "724aad8a",
   "metadata": {},
   "source": [
    "## Challenge 4: Cookie Factory 🍪\n",
    "Make a class called `Cookie` with a flavor attribute. Create two cookies with different flavors and print their flavors."
   ]
  },
  {
   "cell_type": "code",
   "execution_count": null,
   "id": "eddd7f07",
   "metadata": {},
   "outputs": [],
   "source": [
    "# Your code here"
   ]
  },
  {
   "cell_type": "markdown",
   "id": "141aa80b",
   "metadata": {},
   "source": [
    "## Challenge 5: Superhero Powers 🦸‍♂️\n",
    "Create a class called `Superhero` with a name and a method called `show_power` that prints \"I have super strength!\". Create a superhero and show their power."
   ]
  },
  {
   "cell_type": "code",
   "execution_count": null,
   "id": "26894605",
   "metadata": {},
   "outputs": [],
   "source": [
    "# Your code here"
   ]
  },
  {
   "cell_type": "markdown",
   "id": "2a46659f",
   "metadata": {},
   "source": [
    "## Challenge 7: Backpack Adventure 🎒\n",
    "Create a class called `Backpack` that can store items in a list. Add two items and print all the items in the backpack."
   ]
  },
  {
   "cell_type": "code",
   "execution_count": null,
   "id": "ffa49c2e",
   "metadata": {},
   "outputs": [],
   "source": [
    "# Your code here"
   ]
  }
 ],
 "metadata": {
  "language_info": {
   "name": "python"
  }
 },
 "nbformat": 4,
 "nbformat_minor": 5
}
