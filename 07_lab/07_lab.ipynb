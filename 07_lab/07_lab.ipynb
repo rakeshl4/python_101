{
 "cells": [
  {
   "cell_type": "markdown",
   "id": "57bc6abc",
   "metadata": {},
   "source": [
    "# Let's Print Something Visual! 🎨\n",
    "In this lab, you'll learn how to print fun and visual patterns using Python. We'll use loops and print statements to create shapes and designs right in your notebook!"
   ]
  },
  {
   "cell_type": "markdown",
   "id": "dff8a979",
   "metadata": {},
   "source": [
    "## 1. Print a Simple Square\n",
    "Let's start by printing a square made of stars (*)."
   ]
  },
  {
   "cell_type": "code",
   "execution_count": 1,
   "id": "8d9fcf24",
   "metadata": {},
   "outputs": [
    {
     "name": "stdout",
     "output_type": "stream",
     "text": [
      "* * * * * \n",
      "* * * * * \n",
      "* * * * * \n",
      "* * * * * \n",
      "* * * * * \n"
     ]
    }
   ],
   "source": [
    "# Print a 5x5 square of stars\n",
    "for i in range(5):\n",
    "    print(\"* \" * 5)"
   ]
  },
  {
   "cell_type": "markdown",
   "id": "2c1a2133",
   "metadata": {},
   "source": [
    "## 2. Print a Triangle\n",
    "Now, let's print a triangle that grows with each line."
   ]
  },
  {
   "cell_type": "code",
   "execution_count": 2,
   "id": "e3ea440d",
   "metadata": {},
   "outputs": [
    {
     "name": "stdout",
     "output_type": "stream",
     "text": [
      "* \n",
      "* * \n",
      "* * * \n",
      "* * * * \n",
      "* * * * * \n"
     ]
    }
   ],
   "source": [
    "# Print a right-angled triangle\n",
    "for i in range(1, 6):\n",
    "    print(\"* \" * i)"
   ]
  },
  {
   "cell_type": "markdown",
   "id": "7fcd2b26",
   "metadata": {},
   "source": [
    "## 3. Print a Pyramid\n",
    "Let's make a pyramid! We'll use spaces to center the stars."
   ]
  },
  {
   "cell_type": "code",
   "execution_count": 4,
   "id": "bdae78c6",
   "metadata": {},
   "outputs": [
    {
     "name": "stdout",
     "output_type": "stream",
     "text": [
      "    * \n",
      "   * * \n",
      "  * * * \n",
      " * * * * \n",
      "* * * * * \n"
     ]
    }
   ],
   "source": [
    "# Print a pyramid\n",
    "rows = 5\n",
    "for i in range(rows):\n",
    "    print(\" \" * (rows - i - 1) + \"* \" * (i + 1))"
   ]
  },
  {
   "cell_type": "markdown",
   "id": "747908fa",
   "metadata": {},
   "source": [
    "## 4. Print a Smiley Face (with text art!)\n",
    "Let's get creative and print a smiley face using only print statements."
   ]
  },
  {
   "cell_type": "code",
   "execution_count": 5,
   "id": "9814da18",
   "metadata": {},
   "outputs": [
    {
     "name": "stdout",
     "output_type": "stream",
     "text": [
      "  *****  \n",
      " *     * \n",
      "*  o o  *\n",
      "*   ^   *\n",
      "*  '-'  *\n",
      " *     * \n",
      "  *****  \n"
     ]
    }
   ],
   "source": [
    "# Print a smiley face\n",
    "print(\"  *****  \")\n",
    "print(\" *     * \")\n",
    "print(\"*  o o  *\")\n",
    "print(\"*   ^   *\")\n",
    "print(\"*  '-'  *\")\n",
    "print(\" *     * \")\n",
    "print(\"  *****  \")"
   ]
  },
  {
   "cell_type": "markdown",
   "id": "e4b1316a",
   "metadata": {},
   "source": [
    "## Try Your Own!\n",
    "Can you make your own pattern or picture using print statements? Try it below!"
   ]
  },
  {
   "cell_type": "code",
   "execution_count": null,
   "id": "fb7e2f41",
   "metadata": {},
   "outputs": [],
   "source": [
    "# Your creative code here!"
   ]
  }
 ],
 "metadata": {
  "kernelspec": {
   "display_name": "Python 3",
   "language": "python",
   "name": "python3"
  },
  "language_info": {
   "codemirror_mode": {
    "name": "ipython",
    "version": 3
   },
   "file_extension": ".py",
   "mimetype": "text/x-python",
   "name": "python",
   "nbconvert_exporter": "python",
   "pygments_lexer": "ipython3",
   "version": "3.12.1"
  }
 },
 "nbformat": 4,
 "nbformat_minor": 5
}
