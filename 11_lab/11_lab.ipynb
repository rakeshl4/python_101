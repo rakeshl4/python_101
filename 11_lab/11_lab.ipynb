{
 "cells": [
  {
   "cell_type": "markdown",
   "id": "5c3be0c4",
   "metadata": {},
   "source": [
    "# All About HTTP and Making Web Requests in Python! 🌐🐍\n",
    "Welcome, young web explorer! Today, we're going to learn how computers talk to each other over the internet using something called **HTTP**. We'll also see how to make these web requests in Python, and how to send and receive data using JSON!"
   ]
  },
  {
   "cell_type": "markdown",
   "id": "30ecd7a0",
   "metadata": {},
   "source": [
    "## 1. What is HTTP? 🤔\n",
    "HTTP stands for **HyperText Transfer Protocol**. It's like a set of rules that computers use to send messages to each other on the web. When you visit a website, your computer is making an HTTP request!\n",
    "\n",
    "Imagine you want to order pizza 🍕. You call the pizza shop (the server) and ask for a pizza (the data). The pizza shop listens to your request and sends you a pizza in return! That's how HTTP works—your computer (the client) asks for something, and the server sends it back."
   ]
  },
  {
   "cell_type": "markdown",
   "id": "d031a43f",
   "metadata": {},
   "source": [
    "## 2. The Four Main HTTP Verbs 🚦\n",
    "HTTP uses special words called **verbs** to say what it wants to do:\n",
    "- **GET**: \"Please give me some data!\" (like reading a web page)\n",
    "- **POST**: \"Here is some data for you!\" (like sending a message)\n",
    "- **PUT**: \"Please update this data!\" (like changing your profile)\n",
    "- **DELETE**: \"Please remove this data!\" (like deleting a post)\n",
    "\n",
    "### More Examples:\n",
    "- When you search for a video on YouTube, your browser sends a **GET** request.\n",
    "- When you upload a photo, your browser sends a **POST** request.\n",
    "- When you edit your username, that's a **PUT** request.\n",
    "- When you delete a comment, that's a **DELETE** request."
   ]
  },
  {
   "cell_type": "markdown",
   "id": "516a8108",
   "metadata": {},
   "source": [
    "## 3. Making HTTP Requests in Python 🐍🌍\n",
    "We can use a library called `requests` to make HTTP calls in Python. It's like sending a letter and getting a reply!\n",
    "\n",
    "Let's see how to use each verb with more examples:"
   ]
  },
  {
   "cell_type": "code",
   "execution_count": null,
   "id": "ffadb66d",
   "metadata": {},
   "outputs": [
    {
     "name": "stdout",
     "output_type": "stream",
     "text": [
      "{\n",
      "  \"userId\": 1,\n",
      "  \"id\": 1,\n",
      "  \"title\": \"delectus aut autem\",\n",
      "  \"completed\": false\n",
      "}\n"
     ]
    }
   ],
   "source": [
    "# First, install the requests library if you don't have it:\n",
    "# pip install requests\n",
    "import requests\n",
    "\n",
    "# 1. GET request (get some data)\n",
    "response = requests.get(\"https://jsonplaceholder.typicode.com/todos/1\")\n",
    "print(response.text)  # Shows the data we got back!\n",
    "\n",
    "# Another GET example: get a list of todos\n",
    "response = requests.get(\"https://jsonplaceholder.typicode.com/todos\")\n",
    "print(response.json()[:3])  # Show the first 3 todos"
   ]
  },
  {
   "cell_type": "code",
   "execution_count": null,
   "id": "4b6152bf",
   "metadata": {},
   "outputs": [],
   "source": [
    "# 2. POST request (send some data)\n",
    "data = {\"title\": \"Learn Python!\", \"completed\": False}\n",
    "response = requests.post(\"https://jsonplaceholder.typicode.com/todos\", json=data)\n",
    "print(response.json())  # Shows the new data we created!\n",
    "\n",
    "# Another POST example: send a message to a pretend server\n",
    "message = {\"name\": \"Sam\", \"message\": \"Hello, world!\"}\n",
    "response = requests.post(\"https://jsonplaceholder.typicode.com/posts\", json=message)\n",
    "print(response.json())"
   ]
  },
  {
   "cell_type": "code",
   "execution_count": null,
   "id": "7ccd450e",
   "metadata": {},
   "outputs": [],
   "source": [
    "# 3. PUT request (update data)\n",
    "update = {\"title\": \"Learn Python!\", \"completed\": True}\n",
    "response = requests.put(\"https://jsonplaceholder.typicode.com/todos/1\", json=update)\n",
    "print(response.json())\n",
    "\n",
    "# Another PUT example: change a user's name\n",
    "user_update = {\"name\": \"Alex the Coder\"}\n",
    "response = requests.put(\"https://jsonplaceholder.typicode.com/users/1\", json=user_update)\n",
    "print(response.json())"
   ]
  },
  {
   "cell_type": "code",
   "execution_count": null,
   "id": "0c5214eb",
   "metadata": {},
   "outputs": [],
   "source": [
    "# 4. DELETE request (delete data)\n",
    "response = requests.delete(\"https://jsonplaceholder.typicode.com/todos/1\")\n",
    "print(response.status_code)  # 200 means success!\n",
    "\n",
    "# Another DELETE example: delete a pretend post\n",
    "response = requests.delete(\"https://jsonplaceholder.typicode.com/posts/1\")\n",
    "print(response.status_code)"
   ]
  },
  {
   "cell_type": "markdown",
   "id": "9c46c675",
   "metadata": {},
   "source": [
    "## 4. What is JSON? 🗂️\n",
    "JSON stands for **JavaScript Object Notation**. It's a way to send data that looks like Python dictionaries! Computers love JSON because it's easy to read and write.\n",
    "\n",
    "### Example JSON:\n",
    "```json\n",
    "{\n",
    "  \"name\": \"Alex\",\n",
    "  \"age\": 10,\n",
    "  \"hobbies\": [\"coding\", \"drawing\", \"soccer\"]\n",
    "}\n",
    "```\n",
    "\n",
    "### Why use JSON?\n",
    "- It's easy for humans to read.\n",
    "- It's easy for computers to understand.\n",
    "- It's used everywhere on the web!"
   ]
  },
  {
   "cell_type": "code",
   "execution_count": null,
   "id": "47c20273",
   "metadata": {},
   "outputs": [],
   "source": [
    "# Example of a JSON object in Python (it's just a dictionary!)\n",
    "my_data = {\n",
    "    \"name\": \"Alex\",\n",
    "    \"age\": 10,\n",
    "    \"hobbies\": [\"coding\", \"drawing\", \"soccer\"]\n",
    "}\n",
    "\n",
    "import json\n",
    "# Convert Python dict to JSON string\n",
    "json_str = json.dumps(my_data)\n",
    "print(json_str)\n",
    "\n",
    "# Convert JSON string back to Python dict\n",
    "python_data = json.loads(json_str)\n",
    "print(python_data[\"name\"])  # Alex\n",
    "\n",
    "# Example: send JSON data in a POST request\n",
    "response = requests.post(\"https://jsonplaceholder.typicode.com/posts\", json=my_data)\n",
    "print(response.json())"
   ]
  },
  {
   "cell_type": "markdown",
   "id": "18457d06",
   "metadata": {},
   "source": [
    "## 5. Passing Data in HTTP Requests 📦\n",
    "- For **GET** requests, you can pass data as parameters in the URL.\n",
    "- For **POST** and **PUT**, you usually send data as JSON in the body.\n",
    "\n",
    "### More Examples:\n",
    "- Searching for a user by name:"
   ]
  },
  {
   "cell_type": "code",
   "execution_count": null,
   "id": "83f60b63",
   "metadata": {},
   "outputs": [],
   "source": [
    "# Passing parameters in a GET request\n",
    "params = {\"userId\": 1}\n",
    "response = requests.get(\"https://jsonplaceholder.typicode.com/todos\", params=params)\n",
    "print(response.url)  # Shows the full URL with parameters\n",
    "print(response.json())\n",
    "\n",
    "# Another GET with parameters\n",
    "search = {\"q\": \"python\"}\n",
    "response = requests.get(\"https://api.github.com/search/repositories\", params=search)\n",
    "print(response.url)\n",
    "# (This will show a URL for searching Python repos on GitHub!)"
   ]
  },
  {
   "cell_type": "markdown",
   "id": "54f76cd5",
   "metadata": {},
   "source": [
    "## 6. Handling Responses and Errors ⚠️\n",
    "When you make a request, you get a **response**. Sometimes things go wrong (like a wrong address or no internet). You can check if your request worked by looking at the status code:\n",
    "- 200 = Success! 🎉\n",
    "- 404 = Not found (like a missing page)\n",
    "- 500 = Server error (the server is confused)\n",
    "\n",
    "Example:"
   ]
  },
  {
   "cell_type": "code",
   "execution_count": null,
   "id": "17e018c3",
   "metadata": {},
   "outputs": [],
   "source": [
    "response = requests.get(\"https://jsonplaceholder.typicode.com/todos/1\")\n",
    "if response.status_code == 200:\n",
    "    print(\"Yay! Got the data:\", response.json())\n",
    "else:\n",
    "    print(\"Oops! Something went wrong.\")"
   ]
  },
  {
   "cell_type": "markdown",
   "id": "50f744f8",
   "metadata": {},
   "source": [
    "## 7. Summary & Challenge 🚀\n",
    "- HTTP lets computers talk on the web using verbs like GET, POST, PUT, DELETE.\n",
    "- Python's `requests` library makes it easy to send and receive data.\n",
    "- JSON is a way to send data that looks like a Python dictionary.\n",
    "- You can pass data in URLs or in the body of your requests.\n",
    "- Always check your response to see if your request worked!\n",
    "\n",
    "**Challenge:**\n",
    "1. Try making a GET request to get some data from a public API.\n",
    "2. Try sending your own data with a POST request!\n",
    "3. Practice converting between Python dictionaries and JSON strings.\n",
    "4. Try making a request that fails (like a wrong URL) and handle the error!\n",
    "\n",
    "Happy coding, web explorer! 🌍🐍"
   ]
  }
 ],
 "metadata": {
  "kernelspec": {
   "display_name": "Python 3",
   "language": "python",
   "name": "python3"
  },
  "language_info": {
   "codemirror_mode": {
    "name": "ipython",
    "version": 3
   },
   "file_extension": ".py",
   "mimetype": "text/x-python",
   "name": "python",
   "nbconvert_exporter": "python",
   "pygments_lexer": "ipython3",
   "version": "3.12.1"
  }
 },
 "nbformat": 4,
 "nbformat_minor": 5
}
