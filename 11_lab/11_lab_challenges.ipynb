{
 "cells": [
  {
   "cell_type": "markdown",
   "id": "e5d6d9dd",
   "metadata": {},
   "source": [
    "# HTTP Requests: Simple Challenges! 🌐🧩\n",
    "Let's practice making web requests in Python! Try these fun challenges to become an HTTP hero."
   ]
  },
  {
   "cell_type": "markdown",
   "id": "c29a1a20",
   "metadata": {},
   "source": [
    "## Challenge 1: Make Your First GET Request 🚦\n",
    "- Use the `requests` library to make a GET request to `https://jsonplaceholder.typicode.com/todos/1`.\n",
    "- Print the response you get back."
   ]
  },
  {
   "cell_type": "code",
   "execution_count": null,
   "id": "9784f22e",
   "metadata": {},
   "outputs": [],
   "source": [
    "import requests\n",
    "\n",
    "# Make a GET request to the URL\n",
    "response = requests.get(\"https://jsonplaceholder.typicode.com/todos/1\")\n",
    "# Print the response text\n",
    "print(response.text)"
   ]
  },
  {
   "cell_type": "markdown",
   "id": "ad8fa522",
   "metadata": {},
   "source": [
    "## Challenge 2: Get a List of Todos 📋\n",
    "- Make a GET request to `https://jsonplaceholder.typicode.com/todos`.\n",
    "- Print the first 5 todos from the response."
   ]
  },
  {
   "cell_type": "code",
   "execution_count": null,
   "id": "e666fefb",
   "metadata": {},
   "outputs": [],
   "source": [
    "import requests\n",
    "\n",
    "# Get the list of todos\n",
    "response = requests.get(\"https://jsonplaceholder.typicode.com/todos\")\n",
    "todos = response.json()\n",
    "# Print the first 5 todos\n",
    "for todo in todos[:5]:\n",
    "    print(todo)"
   ]
  },
  {
   "cell_type": "markdown",
   "id": "fa7600c9",
   "metadata": {},
   "source": [
    "## Challenge 3: Send Data with POST 📨\n",
    "- Create a dictionary with a title and completed status.\n",
    "- Use a POST request to send it to `https://jsonplaceholder.typicode.com/todos`.\n",
    "- Print the response to see what the server sends back!"
   ]
  },
  {
   "cell_type": "code",
   "execution_count": null,
   "id": "d257b46c",
   "metadata": {},
   "outputs": [],
   "source": [
    "import requests\n",
    "\n",
    "# Create your data\n",
    "data = {\"title\": \"My new todo!\", \"completed\": False}\n",
    "# Send a POST request\n",
    "response = requests.post(\"https://jsonplaceholder.typicode.com/todos\", json=data)\n",
    "# Print the response\n",
    "print(response.json())"
   ]
  },
  {
   "cell_type": "markdown",
   "id": "2ac0291c",
   "metadata": {},
   "source": [
    "## Challenge 4: Try a PUT Request ✏️\n",
    "- Update a todo by sending a PUT request to `https://jsonplaceholder.typicode.com/todos/1`.\n",
    "- Change the title and completed status.\n",
    "- Print the updated todo from the response."
   ]
  },
  {
   "cell_type": "code",
   "execution_count": null,
   "id": "3e382373",
   "metadata": {},
   "outputs": [],
   "source": [
    "import requests\n",
    "\n",
    "# Data to update\n",
    "data = {\"title\": \"Updated todo!\", \"completed\": True}\n",
    "# Send a PUT request\n",
    "response = requests.put(\"https://jsonplaceholder.typicode.com/todos/1\", json=data)\n",
    "# Print the updated todo\n",
    "print(response.json())"
   ]
  },
  {
   "cell_type": "markdown",
   "id": "a1c7c7f0",
   "metadata": {},
   "source": [
    "## Challenge 5: Handle Errors! ⚠️\n",
    "- Make a GET request to a URL that doesn't exist (like `https://jsonplaceholder.typicode.com/doesnotexist`).\n",
    "- Print the status code and a message if it is not 200."
   ]
  },
  {
   "cell_type": "code",
   "execution_count": null,
   "id": "f6c18213",
   "metadata": {},
   "outputs": [],
   "source": [
    "import requests\n",
    "\n",
    "# Try a GET request to a bad URL\n",
    "response = requests.get(\"https://jsonplaceholder.typicode.com/doesnotexist\")\n",
    "if response.status_code != 200:\n",
    "    print(\"Oops! Something went wrong. Status code:\", response.status_code)\n",
    "else:\n",
    "    print(response.text)"
   ]
  },
  {
   "cell_type": "markdown",
   "id": "d25d1fe9",
   "metadata": {},
   "source": [
    "---\n",
    "\n",
    "Great job! Try changing the data or URLs to see what happens. 🚀"
   ]
  }
 ],
 "metadata": {
  "kernelspec": {
   "display_name": "Python 3",
   "language": "python",
   "name": "python3"
  },
  "language_info": {
   "name": "python",
   "version": "3.13.3"
  }
 },
 "nbformat": 4,
 "nbformat_minor": 5
}
