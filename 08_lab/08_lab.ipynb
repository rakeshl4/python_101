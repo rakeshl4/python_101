{
 "cells": [
  {
   "cell_type": "markdown",
   "id": "242dcbbb",
   "metadata": {},
   "source": [
    "# Working with Files in Python 📁\n",
    "In this lab, you'll learn how to read from and write to files using Python. Files help you save information so you can use it later!"
   ]
  },
  {
   "cell_type": "markdown",
   "id": "c175d007",
   "metadata": {},
   "source": [
    "## 1. Writing to a File ✍️\n",
    "Let's start by writing some text to a file. We'll use the `open()` function with the mode `'w'` (write)."
   ]
  },
  {
   "cell_type": "code",
   "execution_count": null,
   "id": "c84600a5",
   "metadata": {},
   "outputs": [],
   "source": [
    "# Write some text to a file\n",
    "with open(\"myfile.txt\", \"w\") as file:\n",
    "    file.write(\"Hello, world!\\n\")\n",
    "    file.write(\"This is a file created by Python.\\n\")\n",
    "print(\"File written!\")"
   ]
  },
  {
   "cell_type": "markdown",
   "id": "47866156",
   "metadata": {},
   "source": [
    "## 2. Reading from a File 📖\n",
    "Now, let's read the text back from the file using the mode `'r'` (read)."
   ]
  },
  {
   "cell_type": "code",
   "execution_count": null,
   "id": "f07289c5",
   "metadata": {},
   "outputs": [],
   "source": [
    "# Read the text from the file\n",
    "with open(\"myfile.txt\", \"r\") as file:\n",
    "    content = file.read()\n",
    "print(\"File content:\")\n",
    "print(content)"
   ]
  },
  {
   "cell_type": "markdown",
   "id": "e9ac1cb3",
   "metadata": {},
   "source": [
    "## 3. Appending to a File ➕\n",
    "You can add more lines to the end of a file using the mode `'a'` (append)."
   ]
  },
  {
   "cell_type": "code",
   "execution_count": null,
   "id": "5e16d455",
   "metadata": {},
   "outputs": [],
   "source": [
    "# Add more lines to the file\n",
    "with open(\"myfile.txt\", \"a\") as file:\n",
    "    file.write(\"Let's add another line!\\n\")\n",
    "print(\"Line appended!\")"
   ]
  },
  {
   "cell_type": "markdown",
   "id": "06eda52f",
   "metadata": {},
   "source": [
    "## 4. Reading a File Line by Line\n",
    "Sometimes you want to read each line separately. Let's do that!"
   ]
  },
  {
   "cell_type": "code",
   "execution_count": null,
   "id": "ce1a8fc5",
   "metadata": {},
   "outputs": [],
   "source": [
    "# Read the file line by line\n",
    "with open(\"myfile.txt\", \"r\") as file:\n",
    "    for line in file:\n",
    "        print(\"Line:\", line.strip())"
   ]
  },
  {
   "cell_type": "markdown",
   "id": "480c4cf9",
   "metadata": {},
   "source": [
    "## 5. Try It Yourself!\n",
    "Can you write a program that asks the user for their name and saves it to a file called `names.txt`? Then, read all the names from the file and print them out!"
   ]
  },
  {
   "cell_type": "code",
   "execution_count": null,
   "id": "015eb460",
   "metadata": {},
   "outputs": [],
   "source": [
    "# Your code here!"
   ]
  }
 ],
 "metadata": {
  "language_info": {
   "name": "python"
  }
 },
 "nbformat": 4,
 "nbformat_minor": 5
}
