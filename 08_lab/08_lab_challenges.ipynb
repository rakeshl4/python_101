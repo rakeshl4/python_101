{
 "cells": [
  {
   "cell_type": "markdown",
   "id": "6e53d6ea",
   "metadata": {},
   "source": [
    "# File Operations Challenges 📁✨\n",
    "Let's practice working with files in Python! Try these fun and simple challenges to become a file-handling superstar."
   ]
  },
  {
   "cell_type": "markdown",
   "id": "58302cd8",
   "metadata": {},
   "source": [
    "## Challenge 1: Write Your Favorite Animal\n",
    "Ask the user for their favorite animal and save it to a file called `animals.txt`."
   ]
  },
  {
   "cell_type": "code",
   "execution_count": null,
   "id": "83d40c61",
   "metadata": {},
   "outputs": [],
   "source": [
    "# Your code here"
   ]
  },
  {
   "cell_type": "markdown",
   "id": "4e8e59be",
   "metadata": {},
   "source": [
    "## Challenge 2: Read and Print the Animal\n",
    "Read the animal name from `animals.txt` and print it out with a fun message."
   ]
  },
  {
   "cell_type": "code",
   "execution_count": null,
   "id": "d5ff4e2e",
   "metadata": {},
   "outputs": [],
   "source": [
    "# Your code here"
   ]
  },
  {
   "cell_type": "markdown",
   "id": "737e29de",
   "metadata": {},
   "source": [
    "## Challenge 3: Add More Animals\n",
    "Ask the user for another animal and add it to `animals.txt` (without erasing the old one!)."
   ]
  },
  {
   "cell_type": "code",
   "execution_count": null,
   "id": "a4e368f5",
   "metadata": {},
   "outputs": [],
   "source": [
    "# Your code here"
   ]
  },
  {
   "cell_type": "markdown",
   "id": "b53a5383",
   "metadata": {},
   "source": [
    "## Challenge 4: Print All Animals\n",
    "Read all the animal names from `animals.txt` and print each one on a new line with a cute emoji."
   ]
  },
  {
   "cell_type": "code",
   "execution_count": null,
   "id": "25b9f0ac",
   "metadata": {},
   "outputs": [],
   "source": [
    "# Your code here"
   ]
  }
 ],
 "metadata": {
  "language_info": {
   "name": "python"
  }
 },
 "nbformat": 4,
 "nbformat_minor": 5
}
