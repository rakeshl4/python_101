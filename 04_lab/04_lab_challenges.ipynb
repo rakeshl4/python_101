{
 "cells": [
  {
   "cell_type": "markdown",
   "id": "508454b0",
   "metadata": {},
   "source": [
    "# Loop Control Challenges\n",
    "Test your skills with these fun challenges about `break`, `continue`, and `return`!"
   ]
  },
  {
   "cell_type": "markdown",
   "id": "5a14f111",
   "metadata": {},
   "source": [
    "## Challenge 1: Print Numbers Until 7\n",
    "Write a loop that prints numbers from 1 to 10, but uses `break` to stop the loop when it reaches 7."
   ]
  },
  {
   "cell_type": "code",
   "execution_count": null,
   "id": "87a687b8",
   "metadata": {},
   "outputs": [],
   "source": [
    "# Starter code:\n",
    "for num in range(1, 11):\n",
    "    # Your code here\n",
    "    pass"
   ]
  },
  {
   "cell_type": "markdown",
   "id": "3fea4eb0",
   "metadata": {},
   "source": [
    "## Challenge 2: Find the First Negative Number\n",
    "Write a loop that goes through a list of numbers and uses `break` to stop when it finds the first negative number. Print that number."
   ]
  },
  {
   "cell_type": "code",
   "execution_count": null,
   "id": "9ef79513",
   "metadata": {},
   "outputs": [],
   "source": [
    "# Starter code:\n",
    "numbers = [3, 5, 7, -2, 8, -1]\n",
    "for n in numbers:\n",
    "    # Your code here\n",
    "    pass"
   ]
  },
  {
   "cell_type": "markdown",
   "id": "97947a1d",
   "metadata": {},
   "source": [
    "## Challenge 3: Break When You Find 'stop'\n",
    "Write a loop that goes through a list of words and uses `break` to stop when it finds the word 'stop'. Print all words before 'stop'."
   ]
  },
  {
   "cell_type": "code",
   "execution_count": null,
   "id": "e4619bb1",
   "metadata": {},
   "outputs": [],
   "source": [
    "# Starter code:\n",
    "words = [\"go\", \"run\", \"jump\", \"stop\", \"walk\"]\n",
    "for word in words:\n",
    "    # Your code here\n",
    "    pass"
   ]
  },
  {
   "cell_type": "markdown",
   "id": "1b2a1a96",
   "metadata": {},
   "source": [
    "## Challenge 4: Skip the Odd Numbers\n",
    "Write a loop that prints only the even numbers from 1 to 10 using `continue` to skip the odd ones."
   ]
  },
  {
   "cell_type": "code",
   "execution_count": null,
   "id": "622026d3",
   "metadata": {},
   "outputs": [],
   "source": [
    "# Starter code:\n",
    "for num in range(1, 11):\n",
    "    # Your code here\n",
    "    pass"
   ]
  },
  {
   "cell_type": "markdown",
   "id": "0c9148ff",
   "metadata": {},
   "source": [
    "## Challenge 5: Continue to Skip Multiples of 3\n",
    "Write a loop that prints numbers from 1 to 10, but uses `continue` to skip numbers that are multiples of 3."
   ]
  },
  {
   "cell_type": "code",
   "execution_count": null,
   "id": "15e8b9c9",
   "metadata": {},
   "outputs": [],
   "source": [
    "# Starter code:\n",
    "for num in range(1, 11):\n",
    "    # Your code here\n",
    "    pass"
   ]
  },
  {
   "cell_type": "markdown",
   "id": "daf3f275",
   "metadata": {},
   "source": [
    "## Challenge 6: Continue to Skip Empty Strings\n",
    "Given a list of strings, print only the non-empty strings using `continue` to skip the empty ones."
   ]
  },
  {
   "cell_type": "code",
   "execution_count": null,
   "id": "317f2040",
   "metadata": {},
   "outputs": [],
   "source": [
    "# Starter code:\n",
    "words = [\"apple\", \"\", \"banana\", \"\", \"cherry\"]\n",
    "for word in words:\n",
    "    # Your code here\n",
    "    pass"
   ]
  },
  {
   "cell_type": "markdown",
   "id": "6c5f746a",
   "metadata": {},
   "source": [
    "## Challenge 7: Return the First Word Starting with 'A'\n",
    "Write a function that takes a list of words and returns the first word that starts with the letter 'A'. Use `return` to send the word back."
   ]
  },
  {
   "cell_type": "code",
   "execution_count": null,
   "id": "1a03330b",
   "metadata": {},
   "outputs": [],
   "source": [
    "# Starter code:\n",
    "def first_word_with_a(words):\n",
    "    for word in words:\n",
    "        # Your code here\n",
    "        pass\n",
    "    return None\n",
    "\n",
    "# Example usage:\n",
    "# print(first_word_with_a([\"cat\", \"Apple\", \"dog\"]))"
   ]
  },
  {
   "cell_type": "markdown",
   "id": "2fa632d0",
   "metadata": {},
   "source": [
    "## Challenge 8: Return the First Number Greater Than 100\n",
    "Write a function that takes a list of numbers and returns the first number greater than 100. Use `return` to send the number back."
   ]
  },
  {
   "cell_type": "code",
   "execution_count": null,
   "id": "9eecf00c",
   "metadata": {},
   "outputs": [],
   "source": [
    "# Starter code:\n",
    "def first_gt_100(numbers):\n",
    "    for n in numbers:\n",
    "        # Your code here\n",
    "        pass\n",
    "    return None\n",
    "\n",
    "# Example usage:\n",
    "# print(first_gt_100([10, 50, 150, 200]))"
   ]
  },
  {
   "cell_type": "markdown",
   "id": "a8801481",
   "metadata": {},
   "source": [
    "## Challenge 9: Return the First Even Number in a List\n",
    "Write a function that takes a list of numbers and returns the first even number. Use `return` to send the number back."
   ]
  },
  {
   "cell_type": "code",
   "execution_count": null,
   "id": "4f854adb",
   "metadata": {},
   "outputs": [],
   "source": [
    "# Starter code:\n",
    "def first_even(numbers):\n",
    "    for n in numbers:\n",
    "        # Your code here\n",
    "        pass\n",
    "    return None\n",
    "\n",
    "# Example usage:\n",
    "# print(first_even([1, 3, 5, 8, 9]))"
   ]
  },
  {
   "cell_type": "markdown",
   "id": "7e79faf2",
   "metadata": {},
   "source": [
    "## Challenge 10: Return the First String Longer Than 5 Characters\n",
    "Write a function that takes a list of strings and returns the first string that is longer than 5 characters. Use `return` to send the string back."
   ]
  },
  {
   "cell_type": "code",
   "execution_count": null,
   "id": "669b95d0",
   "metadata": {},
   "outputs": [],
   "source": [
    "# Starter code:\n",
    "def first_long_string(words):\n",
    "    for word in words:\n",
    "        # Your code here\n",
    "        pass\n",
    "    return None\n",
    "\n",
    "# Example usage:\n",
    "# print(first_long_string([\"cat\", \"elephant\", \"dog\"]))"
   ]
  }
 ],
 "metadata": {
  "language_info": {
   "name": "python"
  }
 },
 "nbformat": 4,
 "nbformat_minor": 5
}
