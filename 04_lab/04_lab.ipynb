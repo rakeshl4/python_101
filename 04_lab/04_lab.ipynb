{
 "cells": [
  {
   "cell_type": "markdown",
   "id": "12c42028",
   "metadata": {},
   "source": [
    "# Exception Handling and Loop Control in Python\n",
    "Welcome to the Python Playground! Today, we'll learn how to make our code super smart and playful using some cool tricks: `try/except`, `break`, `continue`, and `return`! 🐍✨"
   ]
  },
  {
   "cell_type": "markdown",
   "id": "a8864165",
   "metadata": {},
   "source": [
    "## 1. Exception Handling with try/except 🚨\n",
    "Imagine you're playing a game and you might make a mistake, like dividing by zero. Instead of the game crashing, Python says, \"Oops! Let's fix it and keep playing!\" That's what `try/except` does—it catches mistakes and lets your code keep running."
   ]
  },
  {
   "cell_type": "code",
   "execution_count": null,
   "id": "62ac9798",
   "metadata": {},
   "outputs": [],
   "source": [
    "# Example 1: Handling division by zero\n",
    "try:\n",
    "    result = 10 / 0\n",
    "except ZeroDivisionError:\n",
    "    print(\"You can't divide by zero! But don't worry, the game goes on!\")"
   ]
  },
  {
   "cell_type": "code",
   "execution_count": null,
   "id": "0ba5ce41",
   "metadata": {},
   "outputs": [],
   "source": [
    "# Example 2: Handling invalid input\n",
    "try:\n",
    "    age = int(\"ten\")\n",
    "except ValueError:\n",
    "    print(\"Oops! That's not a number. Try again!\")"
   ]
  },
  {
   "cell_type": "code",
   "execution_count": null,
   "id": "c38ae07a",
   "metadata": {},
   "outputs": [],
   "source": [
    "# Example 3: Handling missing file\n",
    "try:\n",
    "    with open(\"missing_file.txt\") as f:\n",
    "        content = f.read()\n",
    "except FileNotFoundError:\n",
    "    print(\"File not found! Let's create a new adventure!\")"
   ]
  },
  {
   "cell_type": "markdown",
   "id": "92accfd2",
   "metadata": {},
   "source": [
    "## 2. Using break in Loops 🛑\n",
    "Think of a loop like a merry-go-round. The `break` command is like saying, \"Stop! I want to get off now!\" It jumps out of the loop when something special happens."
   ]
  },
  {
   "cell_type": "code",
   "execution_count": null,
   "id": "c40ee2fd",
   "metadata": {},
   "outputs": [],
   "source": [
    "# Example 1: Stop when you find a treasure\n",
    "for item in [\"rock\", \"stick\", \"treasure\", \"sand\"]:\n",
    "    if item == \"treasure\":\n",
    "        print(\"Treasure found! Stopping the search.\")\n",
    "        break\n",
    "    print(\"Searching...\")"
   ]
  },
  {
   "cell_type": "code",
   "execution_count": null,
   "id": "5f3f2387",
   "metadata": {},
   "outputs": [],
   "source": [
    "# Example 2: Stop when a number is negative\n",
    "numbers = [3, 7, 2, -1, 5]\n",
    "for n in numbers:\n",
    "    if n < 0:\n",
    "        print(\"Found a negative number! Time to stop.\")\n",
    "        break\n",
    "    print(n)"
   ]
  },
  {
   "cell_type": "code",
   "execution_count": null,
   "id": "a863e044",
   "metadata": {},
   "outputs": [],
   "source": [
    "# Example 3: Stop when a password is correct\n",
    "passwords = [\"cat\", \"dog\", \"python123\", \"bird\"]\n",
    "for pwd in passwords:\n",
    "    if pwd == \"python123\":\n",
    "        print(\"Correct password! Access granted.\")\n",
    "        break\n",
    "    print(\"Wrong password.\")"
   ]
  },
  {
   "cell_type": "markdown",
   "id": "1fffec73",
   "metadata": {},
   "source": [
    "## 3. Using continue in Loops ⏭️\n",
    "The `continue` command is like skipping your turn in a game. If something happens, you say, \"No thanks, I'll skip this one and go to the next!\""
   ]
  },
  {
   "cell_type": "code",
   "execution_count": null,
   "id": "c170025c",
   "metadata": {},
   "outputs": [],
   "source": [
    "# Example 1: Skip even numbers\n",
    "for num in range(1, 6):\n",
    "    if num % 2 == 0:\n",
    "        continue\n",
    "    print(num)\n",
    "# Output: 1 3 5"
   ]
  },
  {
   "cell_type": "code",
   "execution_count": null,
   "id": "0d9ee303",
   "metadata": {},
   "outputs": [],
   "source": [
    "# Example 2: Skip empty strings\n",
    "words = [\"apple\", \"\", \"banana\", \"\", \"cherry\"]\n",
    "for word in words:\n",
    "    if word == \"\":\n",
    "        continue\n",
    "    print(word)"
   ]
  },
  {
   "cell_type": "code",
   "execution_count": null,
   "id": "a2b3aaac",
   "metadata": {},
   "outputs": [],
   "source": [
    "# Example 3: Skip numbers less than 5\n",
    "for n in [2, 8, 4, 10, 3]:\n",
    "    if n < 5:\n",
    "        continue\n",
    "    print(n)\n",
    "# Output: 8 10"
   ]
  },
  {
   "cell_type": "markdown",
   "id": "24c72323",
   "metadata": {},
   "source": [
    "## 4. Using return in Functions 🎁\n",
    "The `return` command is like sending a present back from a function. When your function finds what it's looking for, it wraps it up and sends it back to you!"
   ]
  },
  {
   "cell_type": "code",
   "execution_count": null,
   "id": "a4c475b7",
   "metadata": {},
   "outputs": [],
   "source": [
    "# Example 1: Return the first odd number\n",
    "def find_odd(numbers):\n",
    "    for n in numbers:\n",
    "        if n % 2 == 1:\n",
    "            return n\n",
    "    return None\n",
    "print(find_odd([2, 4, 6, 7, 8]))  # Output: 7"
   ]
  },
  {
   "cell_type": "code",
   "execution_count": null,
   "id": "1f556606",
   "metadata": {},
   "outputs": [],
   "source": [
    "# Example 2: Return the square of a number\n",
    "def square(num):\n",
    "    return num * num\n",
    "print(square(5))  # Output: 25"
   ]
  },
  {
   "cell_type": "code",
   "execution_count": null,
   "id": "b44030c4",
   "metadata": {},
   "outputs": [],
   "source": [
    "# Example 3: Return True if a word is a palindrome\n",
    "def is_palindrome(word):\n",
    "    return word == word[::-1]\n",
    "print(is_palindrome(\"level\"))  # Output: True\n",
    "print(is_palindrome(\"hello\"))  # Output: False"
   ]
  }
 ],
 "metadata": {
  "language_info": {
   "name": "python"
  }
 },
 "nbformat": 4,
 "nbformat_minor": 5
}
