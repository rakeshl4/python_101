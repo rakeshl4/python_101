{
 "cells": [
  {
   "cell_type": "markdown",
   "id": "0351a187",
   "metadata": {},
   "source": [
    "# Exploring Python's Built-in Functions! 🧰🐍\n",
    "Python comes with a magical toolbox full of built-in functions that make coding easier and more fun! Let's discover some of the coolest ones together, with playful explanations and examples for each. Each function is like a superpower for your code!"
   ]
  },
  {
   "cell_type": "markdown",
   "id": "442a3f0a",
   "metadata": {},
   "source": [
    "## 1. Numbers and Math 🧮\n",
    "These functions help you do math quickly and easily!\n",
    "- `abs(x)`: Get the absolute value (always positive!).\n",
    "  - Example: `abs(-7)` gives `7`.\n",
    "- `round(x)`: Round a number to the nearest whole number (or to a certain number of decimal places).\n",
    "  - Example: `round(3.14159, 2)` gives `3.14`.\n",
    "- `pow(x, y)`: Raise x to the power of y (like x * x * ... y times).\n",
    "  - Example: `pow(2, 3)` gives `8`.\n",
    "- `min()` / `max()`: Find the smallest or largest value in a group.\n",
    "  - Example: `min(5, 2, 9)` gives `2`.\n",
    "- `sum()`: Add up all the numbers in a list.\n",
    "  - Example: `sum([1, 2, 3])` gives `6`."
   ]
  },
  {
   "cell_type": "code",
   "execution_count": null,
   "id": "620863b7",
   "metadata": {},
   "outputs": [],
   "source": [
    "print(abs(-7))         # 7\n",
    "print(round(3.14159, 2))  # 3.14\n",
    "print(pow(2, 3))       # 8\n",
    "print(min(5, 2, 9))    # 2\n",
    "print(max(5, 2, 9))    # 9\n",
    "print(sum([1, 2, 3]))  # 6"
   ]
  },
  {
   "cell_type": "markdown",
   "id": "708f8c6e",
   "metadata": {},
   "source": [
    "## 2. Working with Strings ✨\n",
    "Strings are words or sentences. These functions help you work with them!\n",
    "- `len()`: Count the number of characters in a string.\n",
    "  - Example: `len(\"Python\")` gives `6`.\n",
    "- `str()`: Turn something (like a number) into a string.\n",
    "  - Example: `str(123)` gives `'123'`.\n",
    "- `input()`: Ask the user to type something (great for games!).\n",
    "  - Example: `name = input(\"What's your name?\")`.\n",
    "- `print()`: Show something on the screen.\n",
    "  - Example: `print(\"Hello, world!\")` prints `Hello, world!`."
   ]
  },
  {
   "cell_type": "code",
   "execution_count": null,
   "id": "72de053a",
   "metadata": {},
   "outputs": [],
   "source": [
    "word = \"Python\"\n",
    "print(len(word))         # 6\n",
    "print(str(123))          # '123'\n",
    "# name = input(\"What's your name? \")\n",
    "# print(\"Hello, \" + name + \"!\")\n",
    "print(\"Hello, world!\")   # Hello, world!"
   ]
  },
  {
   "cell_type": "markdown",
   "id": "2df38283",
   "metadata": {},
   "source": [
    "## 3. Lists and Collections 📦\n",
    "Lists, tuples, sets, and dictionaries help you organize lots of things!\n",
    "- `list()`, `tuple()`, `set()`, `dict()`: Create different types of collections.\n",
    "  - Example: `list((1, 2, 3))` gives `[1, 2, 3]`.\n",
    "- `sorted()`: Sort a list from smallest to biggest (or alphabetically).\n",
    "  - Example: `sorted([3, 1, 2])` gives `[1, 2, 3]`.\n",
    "- `reversed()`: Reverse a list.\n",
    "  - Example: `list(reversed([1, 2, 3]))` gives `[3, 2, 1]`.\n",
    "- `enumerate()`: Get both the index and value while looping.\n",
    "  - Example: `for i, fruit in enumerate(fruits): ...`.\n",
    "- `zip()`: Combine two lists together, pair by pair.\n",
    "  - Example: `zip([1,2], ['a','b'])` gives `[(1, 'a'), (2, 'b')]`."
   ]
  },
  {
   "cell_type": "code",
   "execution_count": null,
   "id": "2e13ffeb",
   "metadata": {},
   "outputs": [],
   "source": [
    "fruits = [\"apple\", \"banana\", \"cherry\"]\n",
    "print(list(fruits))\n",
    "print(tuple(fruits))\n",
    "print(set(fruits))\n",
    "print(dict(enumerate(fruits)))\n",
    "print(sorted([3, 1, 2]))\n",
    "print(list(reversed([1, 2, 3])))\n",
    "for i, fruit in enumerate(fruits):\n",
    "    print(f\"Fruit #{i+1}: {fruit}\")\n",
    "for a, b in zip([1, 2, 3], [\"a\", \"b\", \"c\"]):\n",
    "    print(a, b)"
   ]
  },
  {
   "cell_type": "markdown",
   "id": "76a0091c",
   "metadata": {},
   "source": [
    "## 4. Type Checking and Conversion 🔄\n",
    "These functions help you check and change the type of things (like numbers, strings, etc.).\n",
    "- `type()`: Find out what type something is.\n",
    "  - Example: `type(42)` gives `<class 'int'>`.\n",
    "- `int()`, `float()`, `bool()`: Change things to integers, floats, or booleans.\n",
    "  - Example: `int(\"7\")` gives `7`.\n",
    "- `isinstance()`: Check if something is a certain type.\n",
    "  - Example: `isinstance(3.14, float)` gives `True`."
   ]
  },
  {
   "cell_type": "code",
   "execution_count": null,
   "id": "f5821ee4",
   "metadata": {},
   "outputs": [],
   "source": [
    "print(type(42))           # <class 'int'>\n",
    "print(int(\"7\"))           # 7\n",
    "print(float(\"3.14\"))      # 3.14\n",
    "print(bool(0))            # False\n",
    "print(isinstance(3.14, float))  # True"
   ]
  },
  {
   "cell_type": "markdown",
   "id": "194f904b",
   "metadata": {},
   "source": [
    "## 5. Help and Exploration 🕵️‍♂️\n",
    "These are your Python detective tools!\n",
    "- `help()`: Get help about anything in Python. Try it in your own Python shell!\n",
    "  - Example: `help(len)` shows info about the `len` function.\n",
    "- `dir()`: See what you can do with an object (all its methods and properties).\n",
    "  - Example: `dir(\"hello\")` shows all string methods."
   ]
  },
  {
   "cell_type": "code",
   "execution_count": null,
   "id": "07b4079a",
   "metadata": {},
   "outputs": [],
   "source": [
    "# help(len)  # Uncomment to see help in a real Python environment\n",
    "print(dir(\"hello\"))  # Shows all string methods"
   ]
  },
  {
   "cell_type": "markdown",
   "id": "f18a2c71",
   "metadata": {},
   "source": [
    "## 6. Fun with Others! 🎲\n",
    "These functions help you work with groups of things or check conditions.\n",
    "- `range()`: Create a sequence of numbers (great for loops!).\n",
    "  - Example: `range(1, 6)` gives `1, 2, 3, 4, 5`.\n",
    "- `map()`: Apply a function to every item in a list.\n",
    "  - Example: `map(str.upper, [\"a\", \"b\", \"c\"])` gives `['A', 'B', 'C']`.\n",
    "- `filter()`: Keep only items that match a condition.\n",
    "  - Example: `filter(lambda x: x > 2, [1, 2, 3, 4])` gives `[3, 4]`.\n",
    "- `any()`, `all()`: Check if any or all items are True.\n",
    "  - Example: `any([False, True, False])` gives `True`.\n",
    "  - Example: `all([True, True, True])` gives `True`."
   ]
  },
  {
   "cell_type": "code",
   "execution_count": null,
   "id": "94c552fc",
   "metadata": {},
   "outputs": [],
   "source": [
    "print(list(range(1, 6)))  # [1, 2, 3, 4, 5]\n",
    "print(list(map(str.upper, [\"a\", \"b\", \"c\"])))  # ['A', 'B', 'C']\n",
    "print(any([False, True, False]))  # True\n",
    "print(all([True, True, True]))    # True"
   ]
  },
  {
   "cell_type": "markdown",
   "id": "a4b16ffb",
   "metadata": {},
   "source": [
    "## 7. Special Built-ins 🧙‍♂️\n",
    "These are some extra magical tools!\n",
    "- `id()`: Get the unique ID of an object (like its address in memory).\n",
    "  - Example: `id(\"hello\")` gives a unique number.\n",
    "- `chr()`, `ord()`: Convert between characters and numbers.\n",
    "  - Example: `chr(65)` gives `'A'`, `ord('A')` gives `65`.\n",
    "- `eval()`: Run Python code from a string (be careful!).\n",
    "  - Example: `eval(\"2 + 2\")` gives `4`.\n",
    "- `open()`: Open a file (for reading or writing).\n",
    "  - Example: `open(\"myfile.txt\", \"w\")` opens a file for writing."
   ]
  },
  {
   "cell_type": "code",
   "execution_count": null,
   "id": "e737d6df",
   "metadata": {},
   "outputs": [],
   "source": [
    "print(id(\"hello\"))         # Unique ID\n",
    "print(chr(65))              # 'A'\n",
    "print(ord('A'))             # 65\n",
    "# print(eval(\"2 + 2\"))      # 4 (be careful with eval!)\n",
    "# f = open(\"myfile.txt\", \"w\")  # Opens a file for writing"
   ]
  },
  {
   "cell_type": "markdown",
   "id": "1553b7b5",
   "metadata": {},
   "source": [
    "## 8. There Are More!\n",
    "Python has even more built-in functions. You can see the full list by searching for \"Python built-in functions\" online or using `dir(__builtins__)` in Python. Try them out and see what magic you can create! ✨"
   ]
  }
 ],
 "metadata": {
  "language_info": {
   "name": "python"
  }
 },
 "nbformat": 4,
 "nbformat_minor": 5
}
