{
 "cells": [
  {
   "cell_type": "markdown",
   "id": "a9b5fcee",
   "metadata": {},
   "source": [
    "# Built-in Functions Challenges 🧰✨\n",
    "Test your skills with these fun challenges using Python's built-in functions!"
   ]
  },
  {
   "cell_type": "markdown",
   "id": "214acf93",
   "metadata": {},
   "source": [
    "## Challenge 1: Absolute Adventure\n",
    "Use a built-in function to print the absolute value of -25."
   ]
  },
  {
   "cell_type": "code",
   "execution_count": null,
   "id": "4e04f574",
   "metadata": {},
   "outputs": [],
   "source": [
    "# Your code here"
   ]
  },
  {
   "cell_type": "markdown",
   "id": "71ded0fc",
   "metadata": {},
   "source": [
    "## Challenge 2: Rounding Race\n",
    "Round the number 7.654 to 1 decimal place using a built-in function."
   ]
  },
  {
   "cell_type": "code",
   "execution_count": null,
   "id": "968a48b2",
   "metadata": {},
   "outputs": [],
   "source": [
    "# Your code here"
   ]
  },
  {
   "cell_type": "markdown",
   "id": "6aee4ae8",
   "metadata": {},
   "source": [
    "## Challenge 3: Power Up!\n",
    "Use a built-in function to calculate 5 to the power of 3."
   ]
  },
  {
   "cell_type": "code",
   "execution_count": null,
   "id": "11f1b2a7",
   "metadata": {},
   "outputs": [],
   "source": [
    "# Your code here"
   ]
  },
  {
   "cell_type": "markdown",
   "id": "7fe08583",
   "metadata": {},
   "source": [
    "## Challenge 4: String Length\n",
    "Print the number of characters in the string \"PythonRocks\" using a built-in function."
   ]
  },
  {
   "cell_type": "code",
   "execution_count": null,
   "id": "987e9026",
   "metadata": {},
   "outputs": [],
   "source": [
    "# Your code here"
   ]
  },
  {
   "cell_type": "markdown",
   "id": "c5e1dea0",
   "metadata": {},
   "source": [
    "## Challenge 5: List Sorting\n",
    "Sort the list [9, 2, 7, 4, 1] in ascending order using a built-in function and print the result."
   ]
  },
  {
   "cell_type": "code",
   "execution_count": null,
   "id": "412d846a",
   "metadata": {},
   "outputs": [],
   "source": [
    "# Your code here"
   ]
  },
  {
   "cell_type": "markdown",
   "id": "359fb623",
   "metadata": {},
   "source": [
    "## Challenge 6: Type Detective\n",
    "Print the type of the value 3.14 using a built-in function."
   ]
  },
  {
   "cell_type": "code",
   "execution_count": null,
   "id": "1b0c9be2",
   "metadata": {},
   "outputs": [],
   "source": [
    "# Your code here"
   ]
  },
  {
   "cell_type": "markdown",
   "id": "03b92e11",
   "metadata": {},
   "source": [
    "## Challenge 7: Filter the Even Numbers\n",
    "Use a built-in function to filter out only the even numbers from the list [1, 2, 3, 4, 5, 6]."
   ]
  },
  {
   "cell_type": "code",
   "execution_count": null,
   "id": "6795025e",
   "metadata": {},
   "outputs": [],
   "source": [
    "# Your code here"
   ]
  },
  {
   "cell_type": "markdown",
   "id": "24d1d479",
   "metadata": {},
   "source": [
    "## Challenge 8: All or Any?\n",
    "Use built-in functions to check if all numbers in [2, 4, 6, 8] are even, and if any number in [1, 3, 5, 6] is even."
   ]
  },
  {
   "cell_type": "code",
   "execution_count": null,
   "id": "31fb95a4",
   "metadata": {},
   "outputs": [],
   "source": [
    "# Your code here"
   ]
  },
  {
   "cell_type": "markdown",
   "id": "c519a69a",
   "metadata": {},
   "source": [
    "## Challenge 9: Character Codes\n",
    "Print the character for the number 90 and the number for the character 'z' using built-in functions."
   ]
  },
  {
   "cell_type": "code",
   "execution_count": null,
   "id": "d7514779",
   "metadata": {},
   "outputs": [],
   "source": [
    "# Your code here"
   ]
  }
 ],
 "metadata": {
  "language_info": {
   "name": "python"
  }
 },
 "nbformat": 4,
 "nbformat_minor": 5
}
