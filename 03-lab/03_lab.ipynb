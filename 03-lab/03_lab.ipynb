{
 "cells": [
  {
   "cell_type": "markdown",
   "id": "d78f156a",
   "metadata": {},
   "source": [
    "## Using Python Functions 🐍\n",
    "Functions are reusable blocks of code that perform a specific task. They help in organizing code and avoiding repetition."
   ]
  },
  {
   "cell_type": "markdown",
   "id": "e15c4a83",
   "metadata": {},
   "source": [
    "### Passing Arguments to Functions\n",
    "Arguments are the inputs you provide to a function. They allow you to pass data into the function for processing."
   ]
  },
  {
   "cell_type": "code",
   "execution_count": null,
   "id": "df01a639",
   "metadata": {},
   "outputs": [],
   "source": [
    "# Define a function with arguments\n",
    "def greet(name):\n",
    "    print(f\"Hello, {name}!\")\n",
    "\n",
    "# Call the function with an argument\n",
    "greet(\"Alice\")"
   ]
  },
  {
   "cell_type": "markdown",
   "id": "91879df0",
   "metadata": {},
   "source": [
    "### Returning Values from Functions\n",
    "Functions can return values using the `return` statement. This allows you to use the result of the function elsewhere in your code."
   ]
  },
  {
   "cell_type": "code",
   "execution_count": null,
   "id": "a06da632",
   "metadata": {},
   "outputs": [],
   "source": [
    "# Define a function that returns a value\n",
    "def add(a, b):\n",
    "    return a + b\n",
    "\n",
    "# Call the function and store the result\n",
    "result = add(3, 5)\n",
    "print(\"Sum:\", result)"
   ]
  },
  {
   "cell_type": "markdown",
   "id": "1804a243",
   "metadata": {},
   "source": [
    "## More Examples of Functions 🛠️\n",
    "Let's explore additional examples to deepen our understanding of Python functions."
   ]
  },
  {
   "cell_type": "code",
   "execution_count": null,
   "id": "bfb20136",
   "metadata": {},
   "outputs": [],
   "source": [
    "# Function with default arguments\n",
    "def greet(name, message=\"Welcome!\"):\n",
    "    print(f\"{message}, {name}!\")\n",
    "\n",
    "# Call the function with and without the default argument\n",
    "greet(\"Alice\")\n",
    "greet(\"Bob\", \"Hello\")"
   ]
  },
  {
   "cell_type": "code",
   "execution_count": null,
   "id": "09a06b9d",
   "metadata": {},
   "outputs": [],
   "source": [
    "# Function with variable-length arguments\n",
    "def calculate_sum(*args):\n",
    "    return sum(args)\n",
    "\n",
    "# Call the function with multiple arguments\n",
    "print(\"Sum of numbers:\", calculate_sum(1, 2, 3, 4, 5))"
   ]
  },
  {
   "cell_type": "code",
   "execution_count": null,
   "id": "aea8783c",
   "metadata": {},
   "outputs": [],
   "source": [
    "# Function with keyword arguments\n",
    "def display_info(name, age):\n",
    "    print(f\"Name: {name}, Age: {age}\")\n",
    "\n",
    "# Call the function with keyword arguments\n",
    "display_info(name=\"Alice\", age=25)"
   ]
  },
  {
   "cell_type": "markdown",
   "id": "9a14881e",
   "metadata": {},
   "source": [
    "### Passing a List to a Function\n",
    "You can pass a list as an argument to a function to process its elements."
   ]
  },
  {
   "cell_type": "code",
   "execution_count": null,
   "id": "1fc2264d",
   "metadata": {},
   "outputs": [],
   "source": [
    "# Function to calculate the sum of a list\n",
    "def sum_list(numbers):\n",
    "    return sum(numbers)\n",
    "\n",
    "# Pass a list to the function\n",
    "my_list = [1, 2, 3, 4, 5]\n",
    "print(\"Sum of the list:\", sum_list(my_list))"
   ]
  },
  {
   "cell_type": "markdown",
   "id": "5b67dcf1",
   "metadata": {},
   "source": [
    "## Building a Calculator Function 🧮\n",
    "In this section, we will build a complete calculator function step by step. The calculator will include operations such as addition, subtraction, multiplication, and summing a list. We will start by defining individual functions for each operation and then integrate them into a single calculator function."
   ]
  },
  {
   "cell_type": "markdown",
   "id": "905810e6",
   "metadata": {},
   "source": [
    "### Example: Addition Function\n",
    "Let's create a simple function to add two numbers."
   ]
  },
  {
   "cell_type": "code",
   "execution_count": null,
   "id": "c17ac587",
   "metadata": {},
   "outputs": [],
   "source": [
    "# Function to add two numbers\n",
    "def add_numbers(a, b):\n",
    "    return a + b\n",
    "\n",
    "# Call the function and display the result\n",
    "num1 = 10\n",
    "num2 = 20\n",
    "print(\"The sum is:\", add_numbers(num1, num2))"
   ]
  },
  {
   "cell_type": "markdown",
   "id": "f43fc93e",
   "metadata": {},
   "source": [
    "### Examples: Subtraction and Multiplication Functions\n",
    "Let's create functions to subtract and multiply two numbers."
   ]
  },
  {
   "cell_type": "code",
   "execution_count": null,
   "id": "33a5aeaf",
   "metadata": {},
   "outputs": [],
   "source": [
    "# Function to subtract two numbers\n",
    "def subtract_numbers(a, b):\n",
    "    return a - b\n",
    "\n",
    "# Call the function and display the result\n",
    "num1 = 20\n",
    "num2 = 10\n",
    "print(\"The difference is:\", subtract_numbers(num1, num2))"
   ]
  },
  {
   "cell_type": "code",
   "execution_count": null,
   "id": "acad9e10",
   "metadata": {},
   "outputs": [],
   "source": [
    "# Function to multiply two numbers\n",
    "def multiply_numbers(a, b):\n",
    "    return a * b\n",
    "\n",
    "# Call the function and display the result\n",
    "num1 = 10\n",
    "num2 = 5\n",
    "print(\"The product is:\", multiply_numbers(num1, num2))"
   ]
  },
  {
   "cell_type": "markdown",
   "id": "68b8c37e",
   "metadata": {},
   "source": [
    "### Complete Calculator Function\n",
    "Let's create a calculator function that uses all the previously defined functions to perform addition, subtraction, multiplication, and summing a list."
   ]
  },
  {
   "cell_type": "code",
   "execution_count": null,
   "id": "10f4bbbd",
   "metadata": {},
   "outputs": [],
   "source": [
    "# Complete calculator function\n",
    "def calculator():\n",
    "    print(\"Select operation:\")\n",
    "    print(\"1. Add\")\n",
    "    print(\"2. Subtract\")\n",
    "    print(\"3. Multiply\")\n",
    "    print(\"4. Sum a List\")\n",
    "\n",
    "    choice = input(\"Enter choice (1/2/3/4): \")\n",
    "\n",
    "    if choice == '1':\n",
    "        num1 = float(input(\"Enter first number: \"))\n",
    "        num2 = float(input(\"Enter second number: \"))\n",
    "        print(\"The sum is:\", add_numbers(num1, num2))\n",
    "    elif choice == '2':\n",
    "        num1 = float(input(\"Enter first number: \"))\n",
    "        num2 = float(input(\"Enter second number: \"))\n",
    "        print(\"The difference is:\", subtract_numbers(num1, num2))\n",
    "    elif choice == '3':\n",
    "        num1 = float(input(\"Enter first number: \"))\n",
    "        num2 = float(input(\"Enter second number: \"))\n",
    "        print(\"The product is:\", multiply_numbers(num1, num2))\n",
    "    elif choice == '4':\n",
    "        numbers = list(map(float, input(\"Enter numbers separated by space: \").split()))\n",
    "        print(\"The sum of the list is:\", sum_list(numbers))\n",
    "    else:\n",
    "        print(\"Invalid input\")\n",
    "\n",
    "# Call the calculator function\n",
    "calculator()"
   ]
  }
 ],
 "metadata": {
  "language_info": {
   "name": "python"
  }
 },
 "nbformat": 4,
 "nbformat_minor": 5
}
