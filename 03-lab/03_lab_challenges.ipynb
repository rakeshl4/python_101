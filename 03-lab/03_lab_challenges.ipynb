{
 "cells": [
  {
   "cell_type": "markdown",
   "id": "a728760b",
   "metadata": {},
   "source": [
    "# Function Challenges\n",
    "In this section, you will solve some challenges related to Python functions."
   ]
  },
  {
   "cell_type": "markdown",
   "id": "986bbdfa",
   "metadata": {},
   "source": [
    "## Challenge 1: Create a Greeting Function\n",
    "Write a function that takes a name as input and returns a greeting message."
   ]
  },
  {
   "cell_type": "code",
   "execution_count": null,
   "id": "da592141",
   "metadata": {},
   "outputs": [],
   "source": [
    "# Example:\n",
    "def greet(name):\n",
    "    pass  # Replace with your implementation\n",
    "\n",
    "# Test the function\n",
    "print(greet(\"Alice\"))"
   ]
  },
  {
   "cell_type": "markdown",
   "id": "e9f367a7",
   "metadata": {},
   "source": [
    "## Challenge 2: Calculate the Square of a Number\n",
    "Write a function that takes a number as input and returns its square."
   ]
  },
  {
   "cell_type": "code",
   "execution_count": null,
   "id": "0fc553fe",
   "metadata": {},
   "outputs": [],
   "source": []
  },
  {
   "cell_type": "markdown",
   "id": "6960202f",
   "metadata": {},
   "source": [
    "## Challenge 3: Check if a Number is Even\n",
    "Write a function that takes a number as input and returns True if the number is even, otherwise False."
   ]
  },
  {
   "cell_type": "code",
   "execution_count": null,
   "id": "65bbb13f",
   "metadata": {},
   "outputs": [],
   "source": []
  },
  {
   "cell_type": "markdown",
   "id": "a3f53758",
   "metadata": {},
   "source": [
    "## Challenge 4: Find the Maximum of Two Numbers\n",
    "Write a function that takes two numbers as input and returns the larger of the two."
   ]
  },
  {
   "cell_type": "code",
   "execution_count": null,
   "id": "86cc1d55",
   "metadata": {},
   "outputs": [],
   "source": []
  },
  {
   "cell_type": "markdown",
   "id": "da8e62f9",
   "metadata": {},
   "source": [
    "## Challenge 5: Calculate Area and Perimeter of a Rectangle\n",
    "Write two functions: one to calculate the area of a rectangle and another to calculate its perimeter. Then, write a third function to call both and display the results."
   ]
  },
  {
   "cell_type": "code",
   "execution_count": null,
   "id": "f6b92f71",
   "metadata": {},
   "outputs": [],
   "source": [
    "# Example:\n",
    "def calculate_area(length, width):\n",
    "    pass  # Replace with your implementation\n",
    "\n",
    "def calculate_perimeter(length, width):\n",
    "    pass  # Replace with your implementation\n",
    "\n",
    "def display_rectangle_properties(length, width):\n",
    "    pass  # Replace with your implementation\n",
    "\n",
    "# Test the functions\n",
    "display_rectangle_properties(5, 3)"
   ]
  },
  {
   "cell_type": "markdown",
   "id": "5cc89097",
   "metadata": {},
   "source": [
    "## Challenge 6: Convert Temperature Between Celsius and Fahrenheit\n",
    "Write two functions: one to convert Celsius to Fahrenheit and another to convert Fahrenheit to Celsius. Then, write a third function to call both and display the results for a given temperature."
   ]
  },
  {
   "cell_type": "code",
   "execution_count": null,
   "id": "4a3572bc",
   "metadata": {},
   "outputs": [],
   "source": [
    "# Example:\n",
    "def celsius_to_fahrenheit(celsius):\n",
    "    pass  # Replace with your implementation\n",
    "\n",
    "def fahrenheit_to_celsius(fahrenheit):\n",
    "    pass  # Replace with your implementation\n",
    "\n",
    "def display_temperature_conversions(temp):\n",
    "    pass  # Replace with your implementation\n",
    "\n",
    "# Test the functions\n",
    "display_temperature_conversions(25)"
   ]
  },
  {
   "cell_type": "markdown",
   "id": "f6e8a57e",
   "metadata": {},
   "source": [
    "## Challenge 7: Calculate Total and Average of a List\n",
    "Write two functions: one to calculate the total of a list of numbers and another to calculate the average. Then, write a third function to call both and display the results."
   ]
  },
  {
   "cell_type": "code",
   "execution_count": null,
   "id": "c62b52c1",
   "metadata": {},
   "outputs": [],
   "source": [
    "# Example:\n",
    "def calculate_total(numbers):\n",
    "    pass  # Replace with your implementation\n",
    "\n",
    "def calculate_average(numbers):\n",
    "    pass  # Replace with your implementation\n",
    "\n",
    "def display_list_statistics(numbers):\n",
    "    pass  # Replace with your implementation\n",
    "\n",
    "# Test the functions\n",
    "display_list_statistics([10, 20, 30, 40, 50])"
   ]
  }
 ],
 "metadata": {
  "language_info": {
   "name": "python"
  }
 },
 "nbformat": 4,
 "nbformat_minor": 5
}
