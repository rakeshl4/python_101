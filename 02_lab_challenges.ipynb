{
 "cells": [
  {
   "cell_type": "markdown",
   "id": "fbd7dded",
   "metadata": {},
   "source": [
    "# List Challenges\n",
    "In this section, you will solve some challenges related to Python lists."
   ]
  },
  {
   "cell_type": "markdown",
   "id": "236c5036",
   "metadata": {},
   "source": [
    "## Challenge 1: Sum of List Elements\n",
    "Write code to calculate the sum of all the elements in a list."
   ]
  },
  {
   "cell_type": "code",
   "execution_count": 2,
   "id": "a2dde75b",
   "metadata": {},
   "outputs": [
    {
     "name": "stdout",
     "output_type": "stream",
     "text": [
      "Sum of list elements: 15\n"
     ]
    }
   ],
   "source": [
    "# Hint: Use the built-in sum() function.\n",
    "example_list = [1, 2, 3, 4, 5]\n",
    "total = 0\n",
    "for i in example_list : \n",
    "    total = total + i \n",
    "\n",
    "print(\"Sum of list elements:\", total)"
   ]
  },
  {
   "cell_type": "markdown",
   "id": "003c2aae",
   "metadata": {},
   "source": [
    "## Challenge 2: Find the Largest Element\n",
    "Write code to find the largest element in a list."
   ]
  },
  {
   "cell_type": "code",
   "execution_count": 3,
   "id": "3f344931",
   "metadata": {},
   "outputs": [
    {
     "name": "stdout",
     "output_type": "stream",
     "text": [
      "Largest element in the list: 5\n"
     ]
    }
   ],
   "source": [
    "# Hint: Use the built-in max() function.\n",
    "example_list = [1, 2, 3, 4, 5]\n",
    "\n",
    "max_number =0\n",
    "for i in example_list :\n",
    "    if i > max_number : \n",
    "        max_number = i\n",
    "\n",
    "\n",
    "print(\"Largest element in the list:\", max_number)"
   ]
  },
  {
   "cell_type": "markdown",
   "id": "e2c9197a",
   "metadata": {},
   "source": [
    "## Challenge 3: Reverse a List\n",
    "Write code to reverse a list."
   ]
  },
  {
   "cell_type": "code",
   "execution_count": 1,
   "id": "4ec09644",
   "metadata": {},
   "outputs": [
    {
     "name": "stdout",
     "output_type": "stream",
     "text": [
      "5\n",
      "4\n",
      "3\n",
      "2\n",
      "1\n"
     ]
    }
   ],
   "source": [
    "# Hint: Use slicing to reverse the list.\n",
    "\n",
    "# Example usage:\n",
    "example_list = [1, 2, 3, 4, 5]\n",
    "length = len(example_list) - 1\n",
    "for i in range (length,-1,-1):\n",
    "    print(example_list[i])\n",
    "\n",
    "\n",
    "#print(\"Reversed list:\", reverse_list(example_list))"
   ]
  },
  {
   "cell_type": "markdown",
   "id": "a57ef40d",
   "metadata": {},
   "source": [
    "## Challenge 4: Count Occurrences\n",
    "Write code to count the number of times a specific element appears in a list."
   ]
  },
  {
   "cell_type": "code",
   "execution_count": 18,
   "id": "8d83e50b",
   "metadata": {},
   "outputs": [
    {
     "name": "stdout",
     "output_type": "stream",
     "text": [
      "3\n"
     ]
    }
   ],
   "source": [
    "# Hint: Use the count() method of lists.\n",
    "example_list = [1, 2, 3, 4, 5, 3, 3]\n",
    "count_of_3 = 0\n",
    "for i in example_list:\n",
    "    if i == 3 :\n",
    "     count_of_3 += 1\n",
    "print ( count_of_3)\n",
    "     \n",
    "#print(\"Number of occurrences of 3:\", count_of_3)"
   ]
  },
  {
   "cell_type": "markdown",
   "id": "ec29851d",
   "metadata": {},
   "source": [
    "## Challenge 5: Check if Element Exists\n",
    "Write code to check if a specific element exists in a list."
   ]
  },
  {
   "cell_type": "code",
   "execution_count": 20,
   "id": "012e7427",
   "metadata": {},
   "outputs": [
    {
     "name": "stdout",
     "output_type": "stream",
     "text": [
      "Does 3 exist in the list? True\n"
     ]
    }
   ],
   "source": [
    "# Hint: Use the 'in' keyword.\n",
    "example_list = [1, 2, 3, 4, 5]\n",
    "element = 3\n",
    "number_found = False\n",
    "for i in example_list:\n",
    "    if i == 3 :\n",
    "        number_found = True\n",
    "        break\n",
    "\n",
    "if number_found == True :\n",
    "    print(\"Does 3 exist in the list?\", number_found)\n",
    "      \n",
    "     \n",
    "\n",
    "#print ( element_exists)\n",
    "#print(\"Does 3 exist in the list?\", element_exists)"
   ]
  },
  {
   "cell_type": "markdown",
   "id": "acbed1e2",
   "metadata": {},
   "source": [
    "## Challenge 6: Sort a List\n",
    "Write code to sort a list in ascending order."
   ]
  },
  {
   "cell_type": "code",
   "execution_count": 21,
   "id": "ee026dca",
   "metadata": {},
   "outputs": [
    {
     "name": "stdout",
     "output_type": "stream",
     "text": [
      "Descending list [5, 4, 3, 2, 1]\n"
     ]
    }
   ],
   "source": [
    "# Hint: Use the sorted() function.\n",
    "example_list = [5, 2, 3, 1, 4]\n",
    "sorted_list = sorted(example_list)\n",
    "descending_list = list(reversed(sorted_list))\n",
    "print(\"Descending list\", descending_list)"
   ]
  },
  {
   "cell_type": "markdown",
   "id": "088793ff",
   "metadata": {},
   "source": [
    "## Challenge 7: Remove an Element\n",
    "Write code to remove a specific element from a list."
   ]
  },
  {
   "cell_type": "code",
   "execution_count": null,
   "id": "07846229",
   "metadata": {},
   "outputs": [],
   "source": [
    "# Hint: Use the remove() method of lists.\n",
    "example_list = [1, 2, 3, 4, 5]\n",
    "example_list.remove(3)\n",
    "print(\"List after removing 3:\", example_list)"
   ]
  },
  {
   "cell_type": "markdown",
   "id": "28b941c4",
   "metadata": {},
   "source": [
    "## Challenge 8: Concatenate Two Lists\n",
    "Write code to concatenate two lists."
   ]
  },
  {
   "cell_type": "code",
   "execution_count": null,
   "id": "98f796b2",
   "metadata": {},
   "outputs": [],
   "source": [
    "# Hint: Use the + operator to concatenate lists.\n",
    "list1 = [1, 2, 3]\n",
    "list2 = [4, 5, 6]\n",
    "concatenated_list = list1 + list2\n",
    "print(\"Concatenated list:\", concatenated_list)"
   ]
  }
 ],
 "metadata": {
  "kernelspec": {
   "display_name": "Python 3",
   "language": "python",
   "name": "python3"
  },
  "language_info": {
   "codemirror_mode": {
    "name": "ipython",
    "version": 3
   },
   "file_extension": ".py",
   "mimetype": "text/x-python",
   "name": "python",
   "nbconvert_exporter": "python",
   "pygments_lexer": "ipython3",
   "version": "3.13.3"
  }
 },
 "nbformat": 4,
 "nbformat_minor": 5
}
