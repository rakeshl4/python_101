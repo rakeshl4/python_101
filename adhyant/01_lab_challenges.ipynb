{
 "cells": [
  {
   "cell_type": "markdown",
   "id": "add7f52e",
   "metadata": {},
   "source": [
    "## Challenges: Variables and Print Statements\n",
    "1. Create a variable to store your favorite food and print a message about it. 🍕\n",
    "   Hint: Use the `print()` function to display the message.\n",
    "2. Store your best friend's name in a variable and print a message introducing them. 👫\n",
    "3. Create two variables for your height and weight, and print a message showing both. 📏⚖️\n",
    "4. Store your favorite hobby in a variable and print a message about why you love it. 🎨\n",
    "5. Create a variable for your birth year and calculate your age using the current year. 🎂\n",
    "   Hint: Subtract your birth year from the current year."
   ]
  },
  {
   "cell_type": "code",
   "execution_count": 1,
   "id": "d65e15da",
   "metadata": {},
   "outputs": [
    {
     "name": "stdout",
     "output_type": "stream",
     "text": [
      "My favorite animal is a penguin.\n"
     ]
    }
   ],
   "source": [
    "# Challenge 1: Variables and Print Statements\n",
    "# Create a variable to store your favorite food and print a message about it.\n",
    "# Hint: Use the print() function to display the message.\n",
    "\n",
    "# Your code here\n",
    "\n",
    "fav_animal=\"penguin\"\n",
    "print(\"My favorite animal is a \" + fav_animal + \".\")"
   ]
  },
  {
   "cell_type": "code",
   "execution_count": 3,
   "id": "275845b2",
   "metadata": {},
   "outputs": [
    {
     "name": "stdout",
     "output_type": "stream",
     "text": [
      "My best friend is Tanish. He is 9 . He lives in Macleod\n"
     ]
    }
   ],
   "source": [
    "# Challenge 2: Variables and Print Statements\n",
    "# Store your best friend's name in a variable and print a message introducing them.\n",
    "\n",
    "# Your code here\n",
    "\n",
    "Best_friend = \"Tanish\"\n",
    "BF_age = \"9\"\n",
    "Bf_place = \"Macleod\"\n",
    "\n",
    "print(f\"My best friend is {Best_friend}. He is {BF_age} . He lives in {Bf_place}\")"
   ]
  },
  {
   "cell_type": "code",
   "execution_count": 4,
   "id": "5c79c9d5",
   "metadata": {},
   "outputs": [
    {
     "name": "stdout",
     "output_type": "stream",
     "text": [
      " my height is 135 cm . My weight is 39 Kg \n"
     ]
    }
   ],
   "source": [
    "# Challenge 3: Variables and Print Statements\n",
    "# Create two variables for your height and weight, and print a message showing both.\n",
    "\n",
    "# Your code here\n",
    "\n",
    "Weight = \"39 Kg\"\n",
    "Height = \"135 cm\"\n",
    "\n",
    "print(f\" my height is {Height} . My weight is 39 Kg \" )"
   ]
  },
  {
   "cell_type": "code",
   "execution_count": null,
   "id": "1ca5ffb0",
   "metadata": {},
   "outputs": [],
   "source": [
    "# Challenge 4: Variables and Print Statements\n",
    "# Store your favorite hobby in a variable and print a message about why you love it.\n",
    "\n",
    "# Your code here   "
   ]
  },
  {
   "cell_type": "code",
   "execution_count": 5,
   "id": "cf9752b2",
   "metadata": {},
   "outputs": [
    {
     "name": "stdout",
     "output_type": "stream",
     "text": [
      "10\n"
     ]
    }
   ],
   "source": [
    "# Challenge 5: Variables and Print Statements\n",
    "# Create a variable for your birth year and calculate your age using the current year.\n",
    "# Hint: Subtract your birth year from the current year.\n",
    "\n",
    "# Your code here\n",
    "current = 2025\n",
    "\n",
    "birth = 2015\n",
    "\n",
    "age = current - birth\n",
    "\n",
    "print(age)"
   ]
  },
  {
   "cell_type": "markdown",
   "id": "214984ae",
   "metadata": {},
   "source": [
    "## Challenges: Conditions (if-else)\n",
    "1. Write a program to check if a number is divisible by both 3 and 5. 🔢\n",
    "   Hint: Use the modulo operator `%` to check divisibility.\n",
    "2. Create a program to check if a given word starts with a vowel. 🅰️\n",
    "3. Write a program to determine if a person is eligible for a senior citizen discount (age >= 60). 👵\n",
    "4. Check if a number is a multiple of 7 or not. 🎲\n",
    "5. Write a program to decide if a temperature is 'hot', 'cold', or 'moderate' based on user input. 🌡️\n",
    "   Hint: Use if-elif-else conditions to categorize the temperature."
   ]
  },
  {
   "cell_type": "code",
   "execution_count": null,
   "id": "f276486a",
   "metadata": {},
   "outputs": [
    {
     "name": "stdout",
     "output_type": "stream",
     "text": [
      "Number not divisible by 3 ad 5 \n"
     ]
    }
   ],
   "source": [
    "# Challenge 1: Conditions (if-else)\n",
    "# Write a program to check if a number is divisible by both 3 and 5.\n",
    "# Hint: Use the modulo operator % to check divisibility.\n",
    "\n",
    "# Your code here\n",
    "number = 15\n",
    "\n",
    "if number % 15 == 0 :\n",
    "    print (\"Number is divisible by both 3 and 5 .\")\n",
    "else :\n",
    "      print (\"Number not divisible by 3 ad 5 \")\n",
    "\n",
    "\n",
    "    \n"
   ]
  },
  {
   "cell_type": "code",
   "execution_count": 5,
   "id": "b3ef5df6",
   "metadata": {},
   "outputs": [
    {
     "name": "stdout",
     "output_type": "stream",
     "text": [
      "The word does not start with a vowel.\n"
     ]
    }
   ],
   "source": [
    "# Challenge 2: Conditions (if-else)\n",
    "# Create a program to check if a given word starts with a vowel.\n",
    "\n",
    "# Your code here \n",
    "\n",
    "word= 'beetroot'\n",
    "\n",
    "if word[0].lower() in 'aeiou':\n",
    "     print(\"The word starts with a vowel.\")\n",
    "else:\n",
    "     print(\"The word does not start with a vowel.\")"
   ]
  },
  {
   "cell_type": "code",
   "execution_count": 12,
   "id": "5347151f",
   "metadata": {},
   "outputs": [
    {
     "name": "stdout",
     "output_type": "stream",
     "text": [
      " you are not eligible , sorry :( \n"
     ]
    }
   ],
   "source": [
    "# Challenge 3: Conditions (if-else)\n",
    "# Write a program to determine if a person is eligible for a senior citizen discount (age >= 60).\n",
    "\n",
    "# Your code here\n",
    "\n",
    "age = 30\n",
    "\n",
    "if age >= 60 : \n",
    " print ( 'You are eligible . Great ! ' )\n",
    "else :\n",
    " print ( ' you are not eligible , sorry :( ')"
   ]
  },
  {
   "cell_type": "code",
   "execution_count": 14,
   "id": "d77950d3",
   "metadata": {},
   "outputs": [
    {
     "name": "stdout",
     "output_type": "stream",
     "text": [
      "papow :( \n"
     ]
    }
   ],
   "source": [
    "# Challenge 4: Conditions (if-else)\n",
    "# Check if a number is a multiple of 7 or not.\n",
    "\n",
    "# Your code here\n",
    "\n",
    "number = 12\n",
    "\n",
    "if number % 7 == 0 :\n",
    "    print (\"Number is divisible by 7.\")\n",
    "else :\n",
    "      print (\"papow :( \")"
   ]
  },
  {
   "cell_type": "code",
   "execution_count": 4,
   "id": "4b26a95c",
   "metadata": {},
   "outputs": [
    {
     "name": "stdout",
     "output_type": "stream",
     "text": [
      "It is moderate .\n"
     ]
    }
   ],
   "source": [
    "# Challenge 5: Conditions (if-else)\n",
    "# Write a program to decide if a temperature is 'hot', 'cold', or 'moderate' based on user input.\n",
    "# Hint: Use if-elif-else conditions to categorize the temperature.\n",
    " \n",
    "# Your code here\n",
    "\n",
    "temp_celsius = 14\n",
    "\n",
    "if temp_celsius >= 25 :\n",
    "    print ('It is hot .')\n",
    "elif temp_celsius <= 10 :\n",
    "    print ('It is cold .')\n",
    "else :\n",
    "    print ('It is moderate .')"
   ]
  },
  {
   "cell_type": "markdown",
   "id": "8dfdb05f",
   "metadata": {},
   "source": [
    "## Challenges: Loops (for and while)\n",
    "1. Use a for loop to print the first 10 square numbers. 🔢\n",
    "   Hint: Use `i**2` to calculate the square of a number.\n",
    "2. Write a while loop to calculate the sum of all even numbers between 1 and 50. ➕\n",
    "3. Create a for loop to print all the characters in a string in reverse order. 🔄\n",
    "4. Use a while loop to find the factorial of a number provided by the user. ✖️\n",
    "   Hint: Multiply numbers in descending order until 1.\n",
    "5. Write a for loop to print all the prime numbers between 1 and 100. 🧮\n",
    "   Hint: Use nested loops to check if a number is divisible only by 1 and itself."
   ]
  },
  {
   "cell_type": "code",
   "execution_count": 1,
   "id": "9aac1dd1",
   "metadata": {},
   "outputs": [
    {
     "name": "stdout",
     "output_type": "stream",
     "text": [
      "1\n",
      "4\n",
      "9\n",
      "16\n",
      "25\n",
      "36\n",
      "49\n",
      "64\n",
      "81\n",
      "100\n"
     ]
    }
   ],
   "source": [
    "# Challenge 1: Loops (for and while)\n",
    "# Use a for loop to print the first 10 square numbers.\n",
    "# Hint: Use i**2 to calculate the square of a number.\n",
    "\n",
    "# Your code here\n",
    "\n",
    "for i in range(1, 11):\n",
    "    print(i**2)\n",
    "\n",
    "\n"
   ]
  },
  {
   "cell_type": "code",
   "execution_count": 2,
   "id": "9c0ca983",
   "metadata": {},
   "outputs": [
    {
     "name": "stdout",
     "output_type": "stream",
     "text": [
      "650\n"
     ]
    }
   ],
   "source": [
    "# Challenge 2: Loops (for and while)\n",
    "# Write a while loop to calculate the sum of all even numbers between 1 and 50.\n",
    "\n",
    "# Your code here\n",
    "\n",
    "number = 1\n",
    "sum = 0\n",
    "while number < 51 :\n",
    "    if (number % 2 == 0) :\n",
    "        sum = sum + number\n",
    "    number = number + 1\n",
    "print (sum)\n",
    "        \n"
   ]
  },
  {
   "cell_type": "code",
   "execution_count": 22,
   "id": "9f66a457",
   "metadata": {},
   "outputs": [
    {
     "name": "stdout",
     "output_type": "stream",
     "text": [
      "t\n",
      "n\n",
      "a\n",
      "y\n",
      "h\n",
      "d\n",
      "A\n"
     ]
    }
   ],
   "source": [
    "# Challenge 3: Loops (for and while)\n",
    "# Create a for loop to print all the characters in a string in reverse order.\n",
    "\n",
    "# Your code here\n",
    "Name = 'Adhyant'\n",
    "for i in range(len(Name)-1,-1,-1) :\n",
    " print(Name[i])"
   ]
  },
  {
   "cell_type": "code",
   "execution_count": null,
   "id": "c623c632",
   "metadata": {},
   "outputs": [],
   "source": [
    "# Challenge 4: Loops (for and while)\n",
    "# Use a while loop to find the factorial of a number provided by the user.\n",
    "# Hint: Multiply numbers in descending order until 1.\n",
    "\n",
    "# Your code here\n"
   ]
  },
  {
   "cell_type": "code",
   "execution_count": null,
   "id": "1effc3ee",
   "metadata": {},
   "outputs": [],
   "source": [
    "# Challenge 5: Loops (for and while)\n",
    "# Write a for loop to print all the prime numbers between 1 and 100.\n",
    "# Hint: Use nested loops to check if a number is divisible only by 1 and itself.\n",
    "\n",
    "# Your code here"
   ]
  },
  {
   "cell_type": "code",
   "execution_count": 24,
   "id": "fcadbafc",
   "metadata": {},
   "outputs": [
    {
     "name": "stdout",
     "output_type": "stream",
     "text": [
      "1\n",
      "2\n",
      "3\n",
      "4\n",
      "5\n",
      "6\n",
      "7\n",
      "8\n",
      "9\n",
      "10\n",
      "11\n",
      "12\n",
      "13\n",
      "14\n",
      "15\n",
      "16\n",
      "17\n",
      "18\n",
      "19\n",
      "20\n",
      "21\n",
      "22\n",
      "23\n",
      "24\n",
      "25\n",
      "26\n",
      "27\n",
      "28\n",
      "29\n",
      "30\n",
      "31\n",
      "32\n",
      "33\n",
      "34\n",
      "35\n",
      "36\n",
      "37\n",
      "38\n",
      "39\n",
      "40\n",
      "41\n",
      "42\n",
      "43\n",
      "44\n",
      "45\n",
      "46\n",
      "47\n",
      "48\n",
      "49\n",
      "50\n",
      "51\n",
      "52\n",
      "53\n",
      "54\n",
      "55\n",
      "56\n",
      "57\n",
      "58\n",
      "59\n",
      "60\n",
      "61\n",
      "62\n",
      "63\n",
      "64\n",
      "65\n",
      "66\n",
      "67\n",
      "68\n",
      "69\n",
      "70\n",
      "71\n",
      "72\n",
      "73\n",
      "74\n",
      "75\n",
      "76\n",
      "77\n",
      "78\n",
      "79\n",
      "80\n",
      "81\n",
      "82\n",
      "83\n",
      "84\n",
      "85\n",
      "86\n",
      "87\n",
      "88\n",
      "89\n",
      "90\n",
      "91\n",
      "92\n",
      "93\n",
      "94\n",
      "95\n",
      "96\n",
      "97\n",
      "98\n",
      "99\n",
      "100\n"
     ]
    }
   ],
   "source": [
    "#Using the range function , print numbers from 100 to 1\n",
    "\n",
    "for i in range (1,101,1):\n",
    "    print (i)\n",
    " "
   ]
  },
  {
   "cell_type": "markdown",
   "id": "944e68a3",
   "metadata": {},
   "source": [
    "## Challenges: User Input\n",
    "1. Ask the user for their favorite movie and print a message recommending it to others. 🎥\n",
    "2. Write a program to ask the user for two numbers and print their sum, difference, and product. ➕➖✖️\n",
    "3. Ask the user for their birth year and calculate their age. 🎂\n",
    "   Hint: Subtract the birth year from the current year.\n",
    "4. Create a program to ask the user for a number and check if it's even or odd. 🔢\n",
    "   Hint: Use the modulo operator `%` to check for evenness.\n",
    "5. Ask the user for their name and a number, then print their name that many times. 🔁\n",
    "   Hint: Use a loop to repeat the name."
   ]
  },
  {
   "cell_type": "code",
   "execution_count": 5,
   "id": "303b4246",
   "metadata": {},
   "outputs": [
    {
     "name": "stdout",
     "output_type": "stream",
     "text": [
      "I like Nothingness to Nothing\n"
     ]
    }
   ],
   "source": [
    "# Challenge 1: User Input\n",
    "# Ask the user for their favorite movie and print a message recommending it to others.\n",
    "\n",
    "# Your code her\n",
    "name = input('Enter your name: ')\n",
    "\n",
    "FavMovie = input('what is your favourite movie: ')\n",
    "\n",
    "print ('I like ' + FavMovie + ' to ' + name)\n",
    "\n",
    "\n"
   ]
  },
  {
   "cell_type": "code",
   "execution_count": 13,
   "id": "3d4f3aad",
   "metadata": {},
   "outputs": [
    {
     "name": "stdout",
     "output_type": "stream",
     "text": [
      "920\n"
     ]
    }
   ],
   "source": [
    "# Challenge 2: User Input\n",
    "# Write a program to ask the user for two numbers and print their sum, difference, and product.\n",
    "\n",
    "# Your code here\n",
    "num1 = int(input('Give me a number  '))\n",
    "num2 = int(input('Give me another one'))\n",
    "sum = num1 + num2\n",
    "print (sum)"
   ]
  },
  {
   "cell_type": "code",
   "execution_count": 3,
   "id": "8486f7de",
   "metadata": {},
   "outputs": [
    {
     "name": "stdout",
     "output_type": "stream",
     "text": [
      "So you are 10\n"
     ]
    }
   ],
   "source": [
    "# Challenge 3: User Input\n",
    "# Ask the user for their birth year and calculate their age.\n",
    "# Hint: Subtract the birth year from the current year.\n",
    "\n",
    "# Your code here\n",
    "birth_year = int(input('What is your birth year '))\n",
    "current_year = 2025\n",
    "\n",
    "age =  current_year - birth_year\n",
    "\n",
    "print (f'So you are {age}')"
   ]
  },
  {
   "cell_type": "code",
   "execution_count": 7,
   "id": "a8192cda",
   "metadata": {},
   "outputs": [
    {
     "name": "stdout",
     "output_type": "stream",
     "text": [
      "Your number is odd\n"
     ]
    }
   ],
   "source": [
    "# Challenge 4: User Input\n",
    "# Create a program to ask the user for a number and check if it's even or odd.\n",
    "# Hint: Use the modulo operator % to check for evenness.\n",
    "\n",
    "# Your code here\n",
    "\n",
    "num = int(input('Give me a number  '))\n",
    "\n",
    "if num % 2 == 0: \n",
    "   print ('Your number is even') \n",
    "\n",
    "else :\n",
    "   print ('Your number is odd')\n"
   ]
  },
  {
   "cell_type": "code",
   "execution_count": null,
   "id": "e463c9d8",
   "metadata": {},
   "outputs": [
    {
     "name": "stdout",
     "output_type": "stream",
     "text": [
      "Chiku\n",
      "Chiku\n"
     ]
    }
   ],
   "source": [
    "# Challenge 5: User Input\n",
    "# Ask the user for their name and a number, then print their name that many times.\n",
    "# Hint: Use a loop to repeat the name.\n",
    "\n",
    "# Your code here\n",
    "\n",
    "name = input('What is your name ')\n",
    "num = int(input('Give me a number'))\n",
    "\n",
    "for i in range (1,num) :\n",
    "\n",
    "    print (name)\n",
    "\n",
    "\n",
    "\n"
   ]
  },
  {
   "cell_type": "markdown",
   "id": "9b191de5",
   "metadata": {},
   "source": [
    "## Challenges: Working with Strings\n",
    "1. Create a string variable to store your name and print it in reverse order. 🔄\n",
    "   Hint: Use slicing to reverse the string.\n",
    "2. Write a program to count the number of vowels in a given string. 🅰️\n",
    "3. Create a string variable and check if it contains the word 'Python'. 🐍\n",
    "4. Write a program to replace all spaces in a string with underscores. ➖\n",
    "5. Create a string variable and print it with the first letter of each word capitalized. 🔤\n",
    "   Hint: Use the `title()` method."
   ]
  },
  {
   "cell_type": "code",
   "execution_count": null,
   "id": "ab56d23a",
   "metadata": {},
   "outputs": [],
   "source": [
    "# Challenge 1: Working with Strings\n",
    "# Create a string variable to store your name and print it in reverse order.\n",
    "# Hint: Use slicing to reverse the string.\n",
    "\n",
    "# Your code here"
   ]
  },
  {
   "cell_type": "code",
   "execution_count": null,
   "id": "e5454949",
   "metadata": {},
   "outputs": [],
   "source": [
    "# Challenge 2: Working with Strings\n",
    "# Write a program to count the number of vowels in a given string.\n",
    "\n",
    "# Your code here"
   ]
  },
  {
   "cell_type": "code",
   "execution_count": null,
   "id": "a1f752d4",
   "metadata": {},
   "outputs": [],
   "source": [
    "# Challenge 3: Working with Strings\n",
    "# Create a string variable and check if it contains the word 'Python'.\n",
    "\n",
    "# Your code here"
   ]
  },
  {
   "cell_type": "code",
   "execution_count": null,
   "id": "d548558f",
   "metadata": {},
   "outputs": [],
   "source": [
    "# Challenge 4: Working with Strings\n",
    "# Write a program to replace all spaces in a string with underscores.\n",
    "\n",
    "# Your code here"
   ]
  },
  {
   "cell_type": "code",
   "execution_count": null,
   "id": "66eb1272",
   "metadata": {},
   "outputs": [],
   "source": [
    "# Challenge 5: Working with Strings\n",
    "# Create a string variable and print it with the first letter of each word capitalized.\n",
    "# Hint: Use the title() method.\n",
    "\n",
    "# Your code here"
   ]
  }
 ],
 "metadata": {
  "kernelspec": {
   "display_name": "Python 3",
   "language": "python",
   "name": "python3"
  },
  "language_info": {
   "codemirror_mode": {
    "name": "ipython",
    "version": 3
   },
   "file_extension": ".py",
   "mimetype": "text/x-python",
   "name": "python",
   "nbconvert_exporter": "python",
   "pygments_lexer": "ipython3",
   "version": "3.13.3"
  }
 },
 "nbformat": 4,
 "nbformat_minor": 5
}
