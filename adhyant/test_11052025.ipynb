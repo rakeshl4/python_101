{
 "cells": [
  {
   "cell_type": "code",
   "execution_count": 1,
   "id": "c545e51d",
   "metadata": {},
   "outputs": [
    {
     "name": "stdout",
     "output_type": "stream",
     "text": [
      "1\n",
      "2\n",
      "3\n",
      "4\n",
      "5\n",
      "6\n",
      "7\n",
      "8\n",
      "9\n",
      "10\n"
     ]
    }
   ],
   "source": [
    "Num = 1\n",
    "\n",
    "for i in range  (1,11) :\n",
    "    print (i)"
   ]
  },
  {
   "cell_type": "code",
   "execution_count": 3,
   "id": "52b045ff",
   "metadata": {},
   "outputs": [
    {
     "name": "stdout",
     "output_type": "stream",
     "text": [
      "1\n",
      "2\n",
      "3\n",
      "4\n",
      "5\n",
      "6\n",
      "7\n",
      "9\n",
      "10\n"
     ]
    }
   ],
   "source": [
    "Num : 1\n",
    "for i in range (1,11 ) :\n",
    "    if i == 8 :\n",
    "        continue\n",
    "\n",
    "    print (i)\n",
    "\n",
    "        \n"
   ]
  },
  {
   "cell_type": "code",
   "execution_count": 12,
   "id": "37b7a925",
   "metadata": {},
   "outputs": [
    {
     "name": "stdout",
     "output_type": "stream",
     "text": [
      "10\n",
      "9\n",
      "8\n",
      "7\n",
      "6\n",
      "5\n",
      "4\n",
      "3\n",
      "2\n",
      "1\n"
     ]
    }
   ],
   "source": [
    "for i in range (10,0,-1) :\n",
    "    print (i)"
   ]
  },
  {
   "cell_type": "code",
   "execution_count": 21,
   "id": "36e43f96",
   "metadata": {},
   "outputs": [
    {
     "name": "stdout",
     "output_type": "stream",
     "text": [
      "it is odd\n"
     ]
    }
   ],
   "source": [
    "num = 3\n",
    "\n",
    "if num % 2 == 0: \n",
    "    print ('it is even')\n",
    "else : \n",
    "    print ('it is odd')"
   ]
  },
  {
   "cell_type": "code",
   "execution_count": 22,
   "id": "5d95c76e",
   "metadata": {},
   "outputs": [
    {
     "name": "stdout",
     "output_type": "stream",
     "text": [
      "4\n"
     ]
    }
   ],
   "source": [
    "numlist = [1,2,3,4,5,6]\n",
    "\n",
    "print (numlist[3])"
   ]
  },
  {
   "cell_type": "code",
   "execution_count": 30,
   "id": "433af8b7",
   "metadata": {},
   "outputs": [
    {
     "name": "stdout",
     "output_type": "stream",
     "text": [
      "Lirrili Larila\n"
     ]
    }
   ],
   "source": [
    "ibrainrots = ['Tralalaero Tralala', 'Bombardino Crocodilo','Brr Brr Papatim', 'Chimpanzini Banini','Tung Tung Sahur','Lirrili Larila']\n",
    "\n",
    "print (ibrainrots[5])"
   ]
  },
  {
   "cell_type": "code",
   "execution_count": null,
   "id": "9877a1bd",
   "metadata": {},
   "outputs": [
    {
     "name": "stdout",
     "output_type": "stream",
     "text": [
      "K\n"
     ]
    }
   ],
   "source": [
    "word = 'SKIBIDI'\n",
    "\n",
    "print (word[1])"
   ]
  }
 ],
 "metadata": {
  "kernelspec": {
   "display_name": "Python 3",
   "language": "python",
   "name": "python3"
  },
  "language_info": {
   "codemirror_mode": {
    "name": "ipython",
    "version": 3
   },
   "file_extension": ".py",
   "mimetype": "text/x-python",
   "name": "python",
   "nbconvert_exporter": "python",
   "pygments_lexer": "ipython3",
   "version": "3.13.3"
  }
 },
 "nbformat": 4,
 "nbformat_minor": 5
}
